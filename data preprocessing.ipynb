{
 "cells": [
  {
   "cell_type": "code",
   "execution_count": 1,
   "metadata": {},
   "outputs": [],
   "source": [
    "import numpy as np\n",
    "import pandas as pd\n",
    "from sklearn.preprocessing import MinMaxScaler\n",
    "\n",
    "import joblib"
   ]
  },
  {
   "cell_type": "code",
   "execution_count": 2,
   "metadata": {},
   "outputs": [],
   "source": [
    "data=pd.read_csv('ActualDataSet.csv')"
   ]
  },
  {
   "cell_type": "code",
   "execution_count": 3,
   "metadata": {},
   "outputs": [
    {
     "name": "stdout",
     "output_type": "stream",
     "text": [
      "Margin Date 1 :2/6/2011\n",
      "Margin Date 2 :7/20/2017\n"
     ]
    }
   ],
   "source": [
    "#Splitting info\n",
    "marginIndex1=int(0.7*data.shape[0])\n",
    "marginIndex2=int(0.85*data.shape[0])\n",
    "\n",
    "marginDate1=data.iloc[marginIndex1][\"DATE\"]\n",
    "marginDate2=data.iloc[marginIndex2][\"DATE\"]\n",
    "\n",
    "print(\"Margin Date 1 :\"+marginDate1)\n",
    "print(\"Margin Date 2 :\"+marginDate2)"
   ]
  },
  {
   "cell_type": "code",
   "execution_count": 4,
   "metadata": {},
   "outputs": [
    {
     "data": {
      "text/html": [
       "<div>\n",
       "<style scoped>\n",
       "    .dataframe tbody tr th:only-of-type {\n",
       "        vertical-align: middle;\n",
       "    }\n",
       "\n",
       "    .dataframe tbody tr th {\n",
       "        vertical-align: top;\n",
       "    }\n",
       "\n",
       "    .dataframe thead th {\n",
       "        text-align: right;\n",
       "    }\n",
       "</style>\n",
       "<table border=\"1\" class=\"dataframe\">\n",
       "  <thead>\n",
       "    <tr style=\"text-align: right;\">\n",
       "      <th></th>\n",
       "      <th>PS</th>\n",
       "      <th>WS10M</th>\n",
       "      <th>QV2M</th>\n",
       "      <th>T2M</th>\n",
       "    </tr>\n",
       "  </thead>\n",
       "  <tbody>\n",
       "    <tr>\n",
       "      <th>0</th>\n",
       "      <td>87.46</td>\n",
       "      <td>1.70</td>\n",
       "      <td>4.70</td>\n",
       "      <td>11.12</td>\n",
       "    </tr>\n",
       "    <tr>\n",
       "      <th>1</th>\n",
       "      <td>87.53</td>\n",
       "      <td>1.48</td>\n",
       "      <td>4.88</td>\n",
       "      <td>11.19</td>\n",
       "    </tr>\n",
       "    <tr>\n",
       "      <th>2</th>\n",
       "      <td>87.49</td>\n",
       "      <td>1.70</td>\n",
       "      <td>5.31</td>\n",
       "      <td>11.30</td>\n",
       "    </tr>\n",
       "    <tr>\n",
       "      <th>3</th>\n",
       "      <td>87.42</td>\n",
       "      <td>1.91</td>\n",
       "      <td>5.43</td>\n",
       "      <td>10.34</td>\n",
       "    </tr>\n",
       "    <tr>\n",
       "      <th>4</th>\n",
       "      <td>87.42</td>\n",
       "      <td>1.81</td>\n",
       "      <td>5.19</td>\n",
       "      <td>10.10</td>\n",
       "    </tr>\n",
       "  </tbody>\n",
       "</table>\n",
       "</div>"
      ],
      "text/plain": [
       "      PS  WS10M  QV2M    T2M\n",
       "0  87.46   1.70  4.70  11.12\n",
       "1  87.53   1.48  4.88  11.19\n",
       "2  87.49   1.70  5.31  11.30\n",
       "3  87.42   1.91  5.43  10.34\n",
       "4  87.42   1.81  5.19  10.10"
      ]
     },
     "execution_count": 4,
     "metadata": {},
     "output_type": "execute_result"
    }
   ],
   "source": [
    "input_columns=['PS','WS10M','QV2M','T2M']\n",
    "data=data[input_columns]\n",
    "data.head()"
   ]
  },
  {
   "cell_type": "code",
   "execution_count": 5,
   "metadata": {},
   "outputs": [
    {
     "name": "stdout",
     "output_type": "stream",
     "text": [
      "Training dataset shape: (10993, 4)\n",
      "Validation dataset shape: (2356, 4)\n",
      "Testing dataset shape: (2356, 4)\n"
     ]
    }
   ],
   "source": [
    "#Data splitting\n",
    "data_train=data[0:marginIndex1].copy()\n",
    "print(\"Training dataset shape:\",data_train.shape)\n",
    "data_validate=data[marginIndex1:marginIndex2].copy()\n",
    "print(\"Validation dataset shape:\",data_validate.shape)\n",
    "data_test=data[marginIndex2:].copy()\n",
    "print(\"Testing dataset shape:\",data_test.shape)"
   ]
  },
  {
   "cell_type": "code",
   "execution_count": 6,
   "metadata": {},
   "outputs": [],
   "source": [
    "data_train.to_csv('./assets/processed dataset/train dataset.csv',index=False)\n",
    "data_validate.to_csv('./assets/processed dataset/validation dataset.csv',index=False)\n",
    "data_test.to_csv('./assets/processed dataset/test dataset.csv',index=False)"
   ]
  },
  {
   "cell_type": "code",
   "execution_count": 7,
   "metadata": {},
   "outputs": [
    {
     "name": "stdout",
     "output_type": "stream",
     "text": [
      "[0.3968254  0.22172949 0.05574136 0.04147657]\n"
     ]
    }
   ],
   "source": [
    "#saving scaler\n",
    "scaler=MinMaxScaler()\n",
    "scaler.fit(data_train)\n",
    "joblib.dump(scaler, \"./assets/scaler.gz\") \n",
    "print(scaler.scale_)"
   ]
  }
 ],
 "metadata": {
  "kernelspec": {
   "display_name": "majorProject",
   "language": "python",
   "name": "python3"
  },
  "language_info": {
   "codemirror_mode": {
    "name": "ipython",
    "version": 3
   },
   "file_extension": ".py",
   "mimetype": "text/x-python",
   "name": "python",
   "nbconvert_exporter": "python",
   "pygments_lexer": "ipython3",
   "version": "3.11.4"
  },
  "orig_nbformat": 4
 },
 "nbformat": 4,
 "nbformat_minor": 2
}

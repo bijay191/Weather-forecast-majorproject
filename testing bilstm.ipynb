{
 "cells": [
  {
   "cell_type": "code",
   "execution_count": 1,
   "metadata": {},
   "outputs": [
    {
     "data": {
      "text/plain": [
       "<torch._C.Generator at 0x1f572248cd0>"
      ]
     },
     "execution_count": 1,
     "metadata": {},
     "output_type": "execute_result"
    }
   ],
   "source": [
    "import numpy as np\n",
    "import pandas as pd\n",
    "\n",
    "import torch\n",
    "import torch.nn as nn\n",
    "from torch.autograd import Variable\n",
    "from torchinfo import summary\n",
    "import joblib\n",
    "torch.manual_seed(42)"
   ]
  },
  {
   "cell_type": "code",
   "execution_count": 2,
   "metadata": {},
   "outputs": [
    {
     "data": {
      "text/plain": [
       "device(type='cpu')"
      ]
     },
     "execution_count": 2,
     "metadata": {},
     "output_type": "execute_result"
    }
   ],
   "source": [
    "device = torch.device(\"cuda\" if torch.cuda.is_available() else \"cpu\")\n",
    "device"
   ]
  },
  {
   "cell_type": "code",
   "execution_count": 3,
   "metadata": {},
   "outputs": [],
   "source": [
    "validation_data=pd.read_csv('./assets/processed dataset/validation dataset.csv')\n",
    "test_data=pd.read_csv('./assets/processed dataset/test dataset.csv')\n",
    "train_data=pd.read_csv('./assets/processed dataset/train dataset.csv')\n",
    "scaler =joblib.load('./assets/scaler.gz')"
   ]
  },
  {
   "cell_type": "code",
   "execution_count": 4,
   "metadata": {},
   "outputs": [
    {
     "data": {
      "text/plain": [
       "array([0.        , 0.25459318, 0.43522505, 0.29502573])"
      ]
     },
     "execution_count": 4,
     "metadata": {},
     "output_type": "execute_result"
    }
   ],
   "source": [
    "df1=test_data\n",
    "input_test=scaler.transform(df1)\n",
    "input_test[0]"
   ]
  },
  {
   "cell_type": "code",
   "execution_count": 5,
   "metadata": {},
   "outputs": [
    {
     "name": "stdout",
     "output_type": "stream",
     "text": [
      "(1957, 180, 4) (1957, 4)\n",
      "torch.Size([1957, 180, 4]) torch.Size([1957, 4])\n"
     ]
    }
   ],
   "source": [
    "seq_length=180\n",
    "#Getting x and y for testing\n",
    "X_test=[]\n",
    "Y_test=[]\n",
    "\n",
    "for i in range(seq_length,input_test.shape[0]):\n",
    "    #Input features from 0 to 59\n",
    "    X_test.append(input_test[i-seq_length:i])\n",
    "    #T2M at 60\n",
    "    Y_test.append(input_test[i])\n",
    "\n",
    "# converting into numpy arrays\n",
    "X_test,Y_test=np.array(X_test),np.array(Y_test)\n",
    "Y_test=Y_test.reshape(-1,4)\n",
    "print(X_test.shape,Y_test.shape)\n",
    "\n",
    "X_test = Variable(torch.Tensor(X_test))\n",
    "Y_test = Variable(torch.Tensor(Y_test))\n",
    "print(X_test.shape,Y_test.shape)"
   ]
  },
  {
   "cell_type": "code",
   "execution_count": 6,
   "metadata": {},
   "outputs": [],
   "source": [
    "#BILSTM Network definition\n",
    "class NETWORK_BILSTM(nn.Module):\n",
    "\n",
    "    def __init__(self,num_classes,input_size,hidden_size,num_layers):\n",
    "        super(NETWORK_BILSTM,self).__init__()\n",
    "        self.num_classes = num_classes\n",
    "        self.num_layers = num_layers\n",
    "        self.input_size = input_size\n",
    "        self.hidden_size = hidden_size\n",
    "        self.lstm=nn.LSTM(input_size=input_size, hidden_size=hidden_size,\n",
    "                            num_layers=num_layers, batch_first=True,bidirectional=True).to(device)\n",
    "        self.fc=nn.Linear(hidden_size*2,num_classes)\n",
    "    \n",
    "    def forward(self,x):\n",
    "        output_lstm, (h_n,c_n) = self.lstm(x)\n",
    "        input_fc=output_lstm[:,-1,:]\n",
    "        output_fc=self.fc(input_fc).to(device)\n",
    "        return output_fc"
   ]
  },
  {
   "cell_type": "code",
   "execution_count": 7,
   "metadata": {},
   "outputs": [
    {
     "data": {
      "text/plain": [
       "NETWORK_BILSTM(\n",
       "  (lstm): LSTM(4, 8, batch_first=True, bidirectional=True)\n",
       "  (fc): Linear(in_features=16, out_features=4, bias=True)\n",
       ")"
      ]
     },
     "execution_count": 7,
     "metadata": {},
     "output_type": "execute_result"
    }
   ],
   "source": [
    "input_size=4\n",
    "hidden_size=8\n",
    "num_layers=1\n",
    "num_classes=4\n",
    "\n",
    "model=NETWORK_BILSTM(num_classes,input_size, hidden_size,num_layers)\n",
    "model.load_state_dict(torch.load('./assets/trained models state/bilstm_state.pt'))\n",
    "model.eval()\n"
   ]
  },
  {
   "cell_type": "code",
   "execution_count": 8,
   "metadata": {},
   "outputs": [],
   "source": [
    "#Testing model\n",
    "Y_pred=model(X_test.to(device))\n",
    "Y_pred=Y_pred.detach().numpy()"
   ]
  },
  {
   "cell_type": "code",
   "execution_count": 9,
   "metadata": {},
   "outputs": [
    {
     "data": {
      "text/plain": [
       "0.009122621"
      ]
     },
     "execution_count": 9,
     "metadata": {},
     "output_type": "execute_result"
    }
   ],
   "source": [
    "#MSE\n",
    "from sklearn.metrics import mean_squared_error\n",
    "mse=mean_squared_error(Y_test,Y_pred)\n",
    "mse"
   ]
  },
  {
   "cell_type": "code",
   "execution_count": 14,
   "metadata": {},
   "outputs": [
    {
     "data": {
      "text/plain": [
       "2.1304768806530334"
      ]
     },
     "execution_count": 14,
     "metadata": {},
     "output_type": "execute_result"
    }
   ],
   "source": [
    "from sktime.performance_metrics.forecasting import mean_absolute_scaled_error\n",
    "mase=mean_absolute_scaled_error(Y_test,Y_pred,y_train=Y_test)\n",
    "mase"
   ]
  },
  {
   "cell_type": "code",
   "execution_count": 20,
   "metadata": {},
   "outputs": [],
   "source": [
    "def MASE(Actual, Predicted):\n",
    "    absolute_error = []\n",
    "    naive_error = []\n",
    "    for i in range(1, len(Actual)):\n",
    "        absolute_error.append(abs(Actual[i] - Predicted[i]))       \n",
    "        naive_error.append(abs(Actual[i] - Actual[i-1]))       \n",
    "    mae= np.mean(absolute_error)\n",
    "    mne=np.mean(naive_error)\n",
    "    return mae/mne"
   ]
  },
  {
   "cell_type": "code",
   "execution_count": 21,
   "metadata": {},
   "outputs": [
    {
     "data": {
      "text/plain": [
       "2.1299999"
      ]
     },
     "execution_count": 21,
     "metadata": {},
     "output_type": "execute_result"
    }
   ],
   "source": [
    "MASE(Y_test,Y_pred)"
   ]
  },
  {
   "cell_type": "code",
   "execution_count": 13,
   "metadata": {},
   "outputs": [
    {
     "name": "stderr",
     "output_type": "stream",
     "text": [
      "\n",
      "(dot.exe:5680): Pango-WARNING **: couldn't load font \"Linux libertine Not-Rotated 10\", falling back to \"Sans Not-Rotated 10\", expect ugly output.\n"
     ]
    },
    {
     "data": {
      "image/svg+xml": [
       "<?xml version=\"1.0\" encoding=\"UTF-8\" standalone=\"no\"?>\n",
       "<!DOCTYPE svg PUBLIC \"-//W3C//DTD SVG 1.1//EN\"\n",
       " \"http://www.w3.org/Graphics/SVG/1.1/DTD/svg11.dtd\">\n",
       "<!-- Generated by graphviz version 9.0.0 (20230911.1827)\n",
       " -->\n",
       "<!-- Title: model Pages: 1 -->\n",
       "<svg width=\"215pt\" height=\"432pt\"\n",
       " viewBox=\"0.00 0.00 215.00 432.00\" xmlns=\"http://www.w3.org/2000/svg\" xmlns:xlink=\"http://www.w3.org/1999/xlink\">\n",
       "<g id=\"graph0\" class=\"graph\" transform=\"scale(1 1) rotate(0) translate(4 428)\">\n",
       "<title>model</title>\n",
       "<polygon fill=\"white\" stroke=\"none\" points=\"-4,4 -4,-428 211,-428 211,4 -4,4\"/>\n",
       "<!-- 0 -->\n",
       "<g id=\"node1\" class=\"node\">\n",
       "<title>0</title>\n",
       "<polygon fill=\"lightyellow\" stroke=\"none\" points=\"162.25,-424 44.75,-424 44.75,-390 162.25,-390 162.25,-424\"/>\n",
       "<polygon fill=\"none\" stroke=\"black\" points=\"44.75,-390 44.75,-424 106.5,-424 106.5,-390 44.75,-390\"/>\n",
       "<text text-anchor=\"start\" x=\"49.75\" y=\"-409.5\" font-family=\"Linux libertine\" font-size=\"10.00\">input&#45;tensor</text>\n",
       "<text text-anchor=\"start\" x=\"59.12\" y=\"-397.5\" font-family=\"Linux libertine\" font-size=\"10.00\">depth:0</text>\n",
       "<polygon fill=\"none\" stroke=\"black\" points=\"106.5,-390 106.5,-424 162.25,-424 162.25,-390 106.5,-390\"/>\n",
       "<text text-anchor=\"start\" x=\"111.5\" y=\"-403.5\" font-family=\"Linux libertine\" font-size=\"10.00\">(1, 180, 4)</text>\n",
       "</g>\n",
       "<!-- 1 -->\n",
       "<g id=\"node2\" class=\"node\">\n",
       "<title>1</title>\n",
       "<polygon fill=\"#c1ffc1\" stroke=\"none\" points=\"207,-354 0,-354 0,-310 207,-310 207,-354\"/>\n",
       "<polygon fill=\"none\" stroke=\"black\" points=\"0,-310 0,-354 43,-354 43,-310 0,-310\"/>\n",
       "<text text-anchor=\"start\" x=\"9.5\" y=\"-334.5\" font-family=\"Linux libertine\" font-size=\"10.00\">LSTM</text>\n",
       "<text text-anchor=\"start\" x=\"5\" y=\"-322.5\" font-family=\"Linux libertine\" font-size=\"10.00\">depth:1</text>\n",
       "<polygon fill=\"none\" stroke=\"black\" points=\"43,-332 43,-354 86,-354 86,-332 43,-332\"/>\n",
       "<text text-anchor=\"start\" x=\"52.12\" y=\"-339.5\" font-family=\"Linux libertine\" font-size=\"10.00\">input:</text>\n",
       "<polygon fill=\"none\" stroke=\"black\" points=\"86,-332 86,-354 207,-354 207,-332 86,-332\"/>\n",
       "<text text-anchor=\"start\" x=\"122.12\" y=\"-339.5\" font-family=\"Linux libertine\" font-size=\"10.00\">(1, 180, 4) </text>\n",
       "<polygon fill=\"none\" stroke=\"black\" points=\"43,-310 43,-332 86,-332 86,-310 43,-310\"/>\n",
       "<text text-anchor=\"start\" x=\"47.62\" y=\"-317.5\" font-family=\"Linux libertine\" font-size=\"10.00\">output: </text>\n",
       "<polygon fill=\"none\" stroke=\"black\" points=\"86,-310 86,-332 207,-332 207,-310 86,-310\"/>\n",
       "<text text-anchor=\"start\" x=\"91\" y=\"-317.5\" font-family=\"Linux libertine\" font-size=\"10.00\">(1, 180, 16), 2 x (2, 1, 8) </text>\n",
       "</g>\n",
       "<!-- 0&#45;&gt;1 -->\n",
       "<g id=\"edge1\" class=\"edge\">\n",
       "<title>0&#45;&gt;1</title>\n",
       "<path fill=\"none\" stroke=\"black\" d=\"M103.5,-390.16C103.5,-382.84 103.5,-373.86 103.5,-365.21\"/>\n",
       "<polygon fill=\"black\" stroke=\"black\" points=\"107,-365.31 103.5,-355.31 100,-365.31 107,-365.31\"/>\n",
       "</g>\n",
       "<!-- 2 -->\n",
       "<g id=\"node3\" class=\"node\">\n",
       "<title>2</title>\n",
       "<polygon fill=\"aliceblue\" stroke=\"none\" points=\"188.5,-274 18.5,-274 18.5,-230 188.5,-230 188.5,-274\"/>\n",
       "<polygon fill=\"none\" stroke=\"black\" points=\"18.5,-230 18.5,-274 81.5,-274 81.5,-230 18.5,-230\"/>\n",
       "<text text-anchor=\"start\" x=\"23.38\" y=\"-254.5\" font-family=\"Linux libertine\" font-size=\"10.00\">__getitem__</text>\n",
       "<text text-anchor=\"start\" x=\"33.5\" y=\"-242.5\" font-family=\"Linux libertine\" font-size=\"10.00\">depth:1</text>\n",
       "<polygon fill=\"none\" stroke=\"black\" points=\"81.5,-252 81.5,-274 124.5,-274 124.5,-252 81.5,-252\"/>\n",
       "<text text-anchor=\"start\" x=\"90.62\" y=\"-259.5\" font-family=\"Linux libertine\" font-size=\"10.00\">input:</text>\n",
       "<polygon fill=\"none\" stroke=\"black\" points=\"124.5,-252 124.5,-274 188.5,-274 188.5,-252 124.5,-252\"/>\n",
       "<text text-anchor=\"start\" x=\"129.5\" y=\"-259.5\" font-family=\"Linux libertine\" font-size=\"10.00\">(1, 180, 16) </text>\n",
       "<polygon fill=\"none\" stroke=\"black\" points=\"81.5,-230 81.5,-252 124.5,-252 124.5,-230 81.5,-230\"/>\n",
       "<text text-anchor=\"start\" x=\"86.12\" y=\"-237.5\" font-family=\"Linux libertine\" font-size=\"10.00\">output: </text>\n",
       "<polygon fill=\"none\" stroke=\"black\" points=\"124.5,-230 124.5,-252 188.5,-252 188.5,-230 124.5,-230\"/>\n",
       "<text text-anchor=\"start\" x=\"140.38\" y=\"-237.5\" font-family=\"Linux libertine\" font-size=\"10.00\">(1, 16) </text>\n",
       "</g>\n",
       "<!-- 1&#45;&gt;2 -->\n",
       "<g id=\"edge2\" class=\"edge\">\n",
       "<title>1&#45;&gt;2</title>\n",
       "<path fill=\"none\" stroke=\"black\" d=\"M103.5,-310.1C103.5,-302.49 103.5,-293.7 103.5,-285.34\"/>\n",
       "<polygon fill=\"black\" stroke=\"black\" points=\"107,-285.47 103.5,-275.47 100,-285.47 107,-285.47\"/>\n",
       "</g>\n",
       "<!-- 3 -->\n",
       "<g id=\"node4\" class=\"node\">\n",
       "<title>3</title>\n",
       "<polygon fill=\"#c1ffc1\" stroke=\"none\" points=\"167.5,-194 39.5,-194 39.5,-150 167.5,-150 167.5,-194\"/>\n",
       "<polygon fill=\"none\" stroke=\"black\" points=\"39.5,-150 39.5,-194 82.5,-194 82.5,-150 39.5,-150\"/>\n",
       "<text text-anchor=\"start\" x=\"47.88\" y=\"-174.5\" font-family=\"Linux libertine\" font-size=\"10.00\">Linear</text>\n",
       "<text text-anchor=\"start\" x=\"44.5\" y=\"-162.5\" font-family=\"Linux libertine\" font-size=\"10.00\">depth:1</text>\n",
       "<polygon fill=\"none\" stroke=\"black\" points=\"82.5,-172 82.5,-194 125.5,-194 125.5,-172 82.5,-172\"/>\n",
       "<text text-anchor=\"start\" x=\"91.62\" y=\"-179.5\" font-family=\"Linux libertine\" font-size=\"10.00\">input:</text>\n",
       "<polygon fill=\"none\" stroke=\"black\" points=\"125.5,-172 125.5,-194 167.5,-194 167.5,-172 125.5,-172\"/>\n",
       "<text text-anchor=\"start\" x=\"130.38\" y=\"-179.5\" font-family=\"Linux libertine\" font-size=\"10.00\">(1, 16) </text>\n",
       "<polygon fill=\"none\" stroke=\"black\" points=\"82.5,-150 82.5,-172 125.5,-172 125.5,-150 82.5,-150\"/>\n",
       "<text text-anchor=\"start\" x=\"87.12\" y=\"-157.5\" font-family=\"Linux libertine\" font-size=\"10.00\">output: </text>\n",
       "<polygon fill=\"none\" stroke=\"black\" points=\"125.5,-150 125.5,-172 167.5,-172 167.5,-150 125.5,-150\"/>\n",
       "<text text-anchor=\"start\" x=\"133\" y=\"-157.5\" font-family=\"Linux libertine\" font-size=\"10.00\">(1, 4) </text>\n",
       "</g>\n",
       "<!-- 2&#45;&gt;3 -->\n",
       "<g id=\"edge3\" class=\"edge\">\n",
       "<title>2&#45;&gt;3</title>\n",
       "<path fill=\"none\" stroke=\"black\" d=\"M103.5,-230.1C103.5,-222.49 103.5,-213.7 103.5,-205.34\"/>\n",
       "<polygon fill=\"black\" stroke=\"black\" points=\"107,-205.47 103.5,-195.47 100,-205.47 107,-205.47\"/>\n",
       "</g>\n",
       "<!-- 4 -->\n",
       "<g id=\"node5\" class=\"node\">\n",
       "<title>4</title>\n",
       "<polygon fill=\"aliceblue\" stroke=\"none\" points=\"165,-114 42,-114 42,-70 165,-70 165,-114\"/>\n",
       "<polygon fill=\"none\" stroke=\"black\" points=\"42,-70 42,-114 85,-114 85,-70 42,-70\"/>\n",
       "<text text-anchor=\"start\" x=\"59.38\" y=\"-94.5\" font-family=\"Linux libertine\" font-size=\"10.00\">to</text>\n",
       "<text text-anchor=\"start\" x=\"47\" y=\"-82.5\" font-family=\"Linux libertine\" font-size=\"10.00\">depth:1</text>\n",
       "<polygon fill=\"none\" stroke=\"black\" points=\"85,-92 85,-114 128,-114 128,-92 85,-92\"/>\n",
       "<text text-anchor=\"start\" x=\"94.12\" y=\"-99.5\" font-family=\"Linux libertine\" font-size=\"10.00\">input:</text>\n",
       "<polygon fill=\"none\" stroke=\"black\" points=\"128,-92 128,-114 165,-114 165,-92 128,-92\"/>\n",
       "<text text-anchor=\"start\" x=\"133\" y=\"-99.5\" font-family=\"Linux libertine\" font-size=\"10.00\">(1, 4) </text>\n",
       "<polygon fill=\"none\" stroke=\"black\" points=\"85,-70 85,-92 128,-92 128,-70 85,-70\"/>\n",
       "<text text-anchor=\"start\" x=\"89.62\" y=\"-77.5\" font-family=\"Linux libertine\" font-size=\"10.00\">output: </text>\n",
       "<polygon fill=\"none\" stroke=\"black\" points=\"128,-70 128,-92 165,-92 165,-70 128,-70\"/>\n",
       "<text text-anchor=\"start\" x=\"133\" y=\"-77.5\" font-family=\"Linux libertine\" font-size=\"10.00\">(1, 4) </text>\n",
       "</g>\n",
       "<!-- 3&#45;&gt;4 -->\n",
       "<g id=\"edge4\" class=\"edge\">\n",
       "<title>3&#45;&gt;4</title>\n",
       "<path fill=\"none\" stroke=\"black\" d=\"M103.5,-150.1C103.5,-142.49 103.5,-133.7 103.5,-125.34\"/>\n",
       "<polygon fill=\"black\" stroke=\"black\" points=\"107,-125.47 103.5,-115.47 100,-125.47 107,-125.47\"/>\n",
       "</g>\n",
       "<!-- 5 -->\n",
       "<g id=\"node6\" class=\"node\">\n",
       "<title>5</title>\n",
       "<polygon fill=\"lightyellow\" stroke=\"none\" points=\"154.38,-34 52.63,-34 52.63,0 154.38,0 154.38,-34\"/>\n",
       "<polygon fill=\"none\" stroke=\"black\" points=\"52.62,0 52.62,-34 120.38,-34 120.38,0 52.62,0\"/>\n",
       "<text text-anchor=\"start\" x=\"57.62\" y=\"-19.5\" font-family=\"Linux libertine\" font-size=\"10.00\">output&#45;tensor</text>\n",
       "<text text-anchor=\"start\" x=\"70\" y=\"-7.5\" font-family=\"Linux libertine\" font-size=\"10.00\">depth:0</text>\n",
       "<polygon fill=\"none\" stroke=\"black\" points=\"120.38,0 120.38,-34 154.38,-34 154.38,0 120.38,0\"/>\n",
       "<text text-anchor=\"start\" x=\"125.38\" y=\"-13.5\" font-family=\"Linux libertine\" font-size=\"10.00\">(1, 4)</text>\n",
       "</g>\n",
       "<!-- 4&#45;&gt;5 -->\n",
       "<g id=\"edge5\" class=\"edge\">\n",
       "<title>4&#45;&gt;5</title>\n",
       "<path fill=\"none\" stroke=\"black\" d=\"M103.5,-70.28C103.5,-62.46 103.5,-53.45 103.5,-45.13\"/>\n",
       "<polygon fill=\"black\" stroke=\"black\" points=\"107,-45.18 103.5,-35.18 100,-45.18 107,-45.18\"/>\n",
       "</g>\n",
       "</g>\n",
       "</svg>\n"
      ],
      "text/plain": [
       "<graphviz.graphs.Digraph at 0x1f5084f3510>"
      ]
     },
     "execution_count": 13,
     "metadata": {},
     "output_type": "execute_result"
    }
   ],
   "source": [
    "import torchvision\n",
    "from torchview import draw_graph\n",
    "with torch.no_grad():\n",
    "    model_graph = draw_graph(model, input_size=(1,180,4), expand_nested=True)\n",
    "model_graph.visual_graph"
   ]
  }
 ],
 "metadata": {
  "kernelspec": {
   "display_name": "majorProject",
   "language": "python",
   "name": "python3"
  },
  "language_info": {
   "codemirror_mode": {
    "name": "ipython",
    "version": 3
   },
   "file_extension": ".py",
   "mimetype": "text/x-python",
   "name": "python",
   "nbconvert_exporter": "python",
   "pygments_lexer": "ipython3",
   "version": "3.11.4"
  },
  "orig_nbformat": 4
 },
 "nbformat": 4,
 "nbformat_minor": 2
}

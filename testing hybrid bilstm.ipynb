{
 "cells": [
  {
   "cell_type": "code",
   "execution_count": 2,
   "metadata": {},
   "outputs": [
    {
     "data": {
      "text/plain": [
       "<torch._C.Generator at 0x1d7cc9bc370>"
      ]
     },
     "execution_count": 2,
     "metadata": {},
     "output_type": "execute_result"
    }
   ],
   "source": [
    "import numpy as np\n",
    "import pandas as pd\n",
    "\n",
    "import torch\n",
    "import torch.nn as nn\n",
    "from torch.autograd import Variable\n",
    "from torchinfo import summary\n",
    "import joblib\n",
    "import pennylane as qml\n",
    "torch.manual_seed(42)"
   ]
  },
  {
   "cell_type": "code",
   "execution_count": 3,
   "metadata": {},
   "outputs": [
    {
     "data": {
      "text/plain": [
       "device(type='cpu')"
      ]
     },
     "execution_count": 3,
     "metadata": {},
     "output_type": "execute_result"
    }
   ],
   "source": [
    "device = torch.device(\"cuda\" if torch.cuda.is_available() else \"cpu\")\n",
    "device"
   ]
  },
  {
   "cell_type": "code",
   "execution_count": 4,
   "metadata": {},
   "outputs": [],
   "source": [
    "validation_data=pd.read_csv('./assets/processed dataset/validation dataset.csv')\n",
    "test_data=pd.read_csv('./assets/processed dataset/test dataset.csv')\n",
    "train_data=pd.read_csv('./assets/processed dataset/train dataset.csv')\n",
    "scaler =joblib.load('./assets/scaler.gz')"
   ]
  },
  {
   "cell_type": "code",
   "execution_count": 5,
   "metadata": {},
   "outputs": [
    {
     "data": {
      "text/plain": [
       "array([0.        , 0.25459318, 0.43522505, 0.29502573])"
      ]
     },
     "execution_count": 5,
     "metadata": {},
     "output_type": "execute_result"
    }
   ],
   "source": [
    "df1=test_data\n",
    "input_test=scaler.transform(df1)\n",
    "input_test[0]"
   ]
  },
  {
   "cell_type": "code",
   "execution_count": 6,
   "metadata": {},
   "outputs": [
    {
     "name": "stdout",
     "output_type": "stream",
     "text": [
      "(1957, 180, 4) (1957, 4)\n",
      "torch.Size([1957, 180, 4]) torch.Size([1957, 4])\n"
     ]
    }
   ],
   "source": [
    "seq_length=180\n",
    "#Getting x and y for testing\n",
    "X_test=[]\n",
    "Y_test=[]\n",
    "\n",
    "for i in range(seq_length,input_test.shape[0]):\n",
    "    #Input features from 0 to 59\n",
    "    X_test.append(input_test[i-seq_length:i])\n",
    "    #T2M at 60\n",
    "    Y_test.append(input_test[i])\n",
    "\n",
    "# converting into numpy arrays\n",
    "X_test,Y_test=np.array(X_test),np.array(Y_test)\n",
    "Y_test=Y_test.reshape(-1,4)\n",
    "print(X_test.shape,Y_test.shape)\n",
    "\n",
    "X_test = Variable(torch.Tensor(X_test))\n",
    "Y_test = Variable(torch.Tensor(Y_test))\n",
    "print(X_test.shape,Y_test.shape)"
   ]
  },
  {
   "cell_type": "code",
   "execution_count": 7,
   "metadata": {},
   "outputs": [
    {
     "data": {
      "text/plain": [
       "<Quantum Torch Layer: func=circuit>"
      ]
     },
     "execution_count": 7,
     "metadata": {},
     "output_type": "execute_result"
    }
   ],
   "source": [
    "#Defining quantum layer\n",
    "n_qubits = 4\n",
    "n_layers=6\n",
    "weight_shapes = {\"weights\": (n_layers, n_qubits)}\n",
    "dev = qml.device(\"default.qubit\", wires=n_qubits)\n",
    "\n",
    "@qml.qnode(dev,interface='torch')\n",
    "def circuit(inputs, weights):\n",
    "    qml.templates.AngleEmbedding(inputs, wires=range(n_qubits))\n",
    "    qml.templates.BasicEntanglerLayers(weights, wires=range(n_qubits))\n",
    "    exp_val=[qml.expval(qml.PauliZ(wires=i)) for i in range(n_qubits)]\n",
    "    return tuple(exp_val)\n",
    "    #return exp_val\n",
    "\n",
    "# qml.drawer.use_style(\"black_white\")\n",
    "# fig,ax=qml.draw_mpl(circuit)([0.26,0.28,3.31,0.85],torch.randn(6,4))\n",
    "# plt.show()\n",
    "qlayer = qml.qnn.TorchLayer(circuit, weight_shapes)\n",
    "qlayer"
   ]
  },
  {
   "cell_type": "code",
   "execution_count": 8,
   "metadata": {},
   "outputs": [],
   "source": [
    "#HYBRID QLSTM Network definition\n",
    "class NETWORK_HYBRID_BILSTM(nn.Module):\n",
    "\n",
    "    def __init__(self,num_classes,input_size,hidden_size,num_layers):\n",
    "        super(NETWORK_HYBRID_BILSTM,self).__init__()\n",
    "        self.num_classes = num_classes\n",
    "        self.num_layers = num_layers\n",
    "        self.input_size = input_size\n",
    "        self.hidden_size = hidden_size\n",
    "        self.lstm1=nn.LSTM(input_size=input_size, hidden_size=hidden_size,\n",
    "                            num_layers=num_layers, batch_first=True,bidirectional=True).to(device)\n",
    "        \n",
    "        self.fc1=nn.Linear(hidden_size*2,n_qubits)\n",
    "        self.qlayer=qlayer\n",
    "        self.fc2=nn.Linear(n_qubits,num_classes)\n",
    "    \n",
    "    def forward(self,x):\n",
    "        output_lstm1, (h_n,c_n) = self.lstm1(x)\n",
    "        output_fc1=self.fc1(output_lstm1[:,-1,:])\n",
    "        input_q=output_fc1        \n",
    "        output_q=self.qlayer(input_q)\n",
    "        output_fc2=self.fc2(output_q).to(device)\n",
    "        return output_fc2"
   ]
  },
  {
   "cell_type": "code",
   "execution_count": 9,
   "metadata": {},
   "outputs": [
    {
     "data": {
      "text/plain": [
       "NETWORK_HYBRID_BILSTM(\n",
       "  (lstm1): LSTM(4, 8, batch_first=True, bidirectional=True)\n",
       "  (fc1): Linear(in_features=16, out_features=4, bias=True)\n",
       "  (qlayer): <Quantum Torch Layer: func=circuit>\n",
       "  (fc2): Linear(in_features=4, out_features=4, bias=True)\n",
       ")"
      ]
     },
     "execution_count": 9,
     "metadata": {},
     "output_type": "execute_result"
    }
   ],
   "source": [
    "input_size=4\n",
    "hidden_size=8\n",
    "hidden_size2=8\n",
    "num_layers=1\n",
    "num_classes=4\n",
    "\n",
    "model=NETWORK_HYBRID_BILSTM(num_classes,input_size, hidden_size,num_layers)\n",
    "model.load_state_dict(torch.load('./assets/trained models state/hybrid_bilstm_state.pt'))\n",
    "model.eval()\n"
   ]
  },
  {
   "cell_type": "code",
   "execution_count": 10,
   "metadata": {},
   "outputs": [],
   "source": [
    "#Testing model\n",
    "Y_pred=model(X_test.to(device))\n",
    "Y_pred=Y_pred.detach().numpy()"
   ]
  },
  {
   "cell_type": "code",
   "execution_count": 11,
   "metadata": {},
   "outputs": [
    {
     "data": {
      "text/plain": [
       "0.008305465"
      ]
     },
     "execution_count": 11,
     "metadata": {},
     "output_type": "execute_result"
    }
   ],
   "source": [
    "#MSE\n",
    "from sklearn.metrics import mean_squared_error\n",
    "mse=mean_squared_error(Y_test,Y_pred)\n",
    "mse"
   ]
  },
  {
   "cell_type": "code",
   "execution_count": 12,
   "metadata": {},
   "outputs": [
    {
     "data": {
      "text/plain": [
       "2.1676287878433027"
      ]
     },
     "execution_count": 12,
     "metadata": {},
     "output_type": "execute_result"
    }
   ],
   "source": [
    "from sktime.performance_metrics.forecasting import mean_absolute_scaled_error\n",
    "mase=mean_absolute_scaled_error(Y_test,Y_pred,y_train=Y_test)\n",
    "mase"
   ]
  }
 ],
 "metadata": {
  "kernelspec": {
   "display_name": "majorProject",
   "language": "python",
   "name": "python3"
  },
  "language_info": {
   "codemirror_mode": {
    "name": "ipython",
    "version": 3
   },
   "file_extension": ".py",
   "mimetype": "text/x-python",
   "name": "python",
   "nbconvert_exporter": "python",
   "pygments_lexer": "ipython3",
   "version": "3.11.4"
  },
  "orig_nbformat": 4
 },
 "nbformat": 4,
 "nbformat_minor": 2
}

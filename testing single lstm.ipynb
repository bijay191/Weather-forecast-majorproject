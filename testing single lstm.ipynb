{
 "cells": [
  {
   "cell_type": "code",
   "execution_count": null,
   "metadata": {},
   "outputs": [],
   "source": [
    "import numpy as np\n",
    "import pandas as pd\n",
    "\n",
    "import torch\n",
    "import torch.nn as nn\n",
    "from torch.autograd import Variable\n",
    "from torchinfo import summary\n",
    "import joblib\n",
    "torch.manual_seed(42)"
   ]
  },
  {
   "cell_type": "code",
   "execution_count": null,
   "metadata": {},
   "outputs": [],
   "source": [
    "device = torch.device(\"cuda\" if torch.cuda.is_available() else \"cpu\")\n",
    "device"
   ]
  },
  {
   "cell_type": "code",
   "execution_count": null,
   "metadata": {},
   "outputs": [],
   "source": [
    "validation_data=pd.read_csv('./assets/processed dataset/validation dataset.csv')\n",
    "test_data=pd.read_csv('./assets/processed dataset/test dataset.csv')\n",
    "train_data=pd.read_csv('./assets/processed dataset/train dataset.csv')\n",
    "scaler =joblib.load('./assets/scaler.gz')"
   ]
  },
  {
   "cell_type": "code",
   "execution_count": null,
   "metadata": {},
   "outputs": [],
   "source": [
    "df1=test_data\n",
    "input_test=scaler.transform(df1)\n",
    "input_test[0]"
   ]
  },
  {
   "cell_type": "code",
   "execution_count": null,
   "metadata": {},
   "outputs": [],
   "source": [
    "seq_length=180\n",
    "#Getting x and y for testing\n",
    "X_test=[]\n",
    "Y_test=[]\n",
    "\n",
    "for i in range(seq_length,input_test.shape[0]):\n",
    "    #Input features from 0 to 59\n",
    "    X_test.append(input_test[i-seq_length:i])\n",
    "    #T2M at 60\n",
    "    Y_test.append(input_test[i])\n",
    "\n",
    "# converting into numpy arrays\n",
    "X_test,Y_test=np.array(X_test),np.array(Y_test)\n",
    "Y_test=Y_test.reshape(-1,4)\n",
    "print(X_test.shape,Y_test.shape)\n",
    "\n",
    "X_test = Variable(torch.Tensor(X_test))\n",
    "Y_test = Variable(torch.Tensor(Y_test))\n",
    "print(X_test.shape,Y_test.shape)"
   ]
  },
  {
   "cell_type": "code",
   "execution_count": null,
   "metadata": {},
   "outputs": [],
   "source": [
    "#single lstm Network definition\n",
    "class NETWORK_SINGLE_LSTM(nn.Module):\n",
    "\n",
    "    def __init__(self,num_classes,input_size,hidden_size,num_layers):\n",
    "        super(NETWORK_SINGLE_LSTM,self).__init__()\n",
    "        self.num_classes = num_classes\n",
    "        self.num_layers = num_layers\n",
    "        self.input_size = input_size\n",
    "        self.hidden_size = hidden_size\n",
    "        self.lstm=nn.LSTM(input_size=input_size, hidden_size=hidden_size,\n",
    "                            num_layers=num_layers, batch_first=True).to(device)\n",
    "        self.fc=nn.Linear(hidden_size,num_classes)\n",
    "    \n",
    "    def forward(self,x):\n",
    "        h_0=torch.randn(self.num_layers, x.size(0), self.hidden_size).requires_grad_().to(device)\n",
    "        c_0=torch.randn(self.num_layers, x.size(0), self.hidden_size).requires_grad_().to(device)\n",
    "        output_lstm, (h_n,c_n) = self.lstm(x, (h_0, c_0))\n",
    "        input_fc=output_lstm[:,-1,:]\n",
    "        output_fc=self.fc(input_fc).to(device)\n",
    "        return output_fc"
   ]
  },
  {
   "cell_type": "code",
   "execution_count": null,
   "metadata": {},
   "outputs": [],
   "source": [
    "input_size=4\n",
    "hidden_size=2\n",
    "num_layers=1\n",
    "num_classes=4\n",
    "\n",
    "model=NETWORK_SINGLE_LSTM(num_classes,input_size, hidden_size,num_layers)\n",
    "model.load_state_dict(torch.load('./assets/trained models state/LSTM_epochs_500_lr_0.01_hidden_2_layers_1.pt'))\n",
    "model.eval()\n"
   ]
  },
  {
   "cell_type": "code",
   "execution_count": null,
   "metadata": {},
   "outputs": [],
   "source": [
    "#Testing model\n",
    "Y_pred=model(X_test.to(device))\n",
    "Y_pred=Y_pred.detach().numpy()"
   ]
  },
  {
   "cell_type": "code",
   "execution_count": null,
   "metadata": {},
   "outputs": [],
   "source": [
    "#MSE\n",
    "from sklearn.metrics import mean_squared_error\n",
    "mse=mean_squared_error(Y_test,Y_pred)\n",
    "mse"
   ]
  },
  {
   "cell_type": "code",
   "execution_count": null,
   "metadata": {},
   "outputs": [],
   "source": [
    "from sklearn.metrics import mean_absolute_error\n",
    "mae=mean_absolute_error(Y_test,Y_pred)\n",
    "mae"
   ]
  },
  {
   "cell_type": "code",
   "execution_count": null,
   "metadata": {},
   "outputs": [],
   "source": [
    "#MAE\n",
    "from sklearn.metrics import mean_absolute_error\n",
    "mae_ps=mean_absolute_error(Y_test[0].flatten(),Y_pred[0].flatten())\n",
    "print(\"PS MAE: %1.5f mm/hr\"%mae_ps)\n",
    "mae_qv2m=mean_absolute_error(Y_test[2].flatten(),Y_pred[2].flatten())\n",
    "print(\"QV2M MAE: %1.5f gm/kg\"%mae_qv2m)\n",
    "mae_t2m=mean_absolute_error(Y_test[3].flatten(),Y_pred[3].flatten())\n",
    "print(\"T2M MAE: %1.5f celsius\"%mae_t2m)\n",
    "mae_ws10m=mean_absolute_error(Y_test[1].flatten(),Y_pred[1].flatten())\n",
    "print(\"WS10M MAE: %1.5f m/s\"%mae_ws10m)"
   ]
  },
  {
   "cell_type": "code",
   "execution_count": null,
   "metadata": {},
   "outputs": [],
   "source": [
    "from sktime.performance_metrics.forecasting import mean_absolute_scaled_error\n",
    "mase=mean_absolute_scaled_error(Y_test,Y_pred,y_train=Y_test)\n",
    "mase"
   ]
  },
  {
   "cell_type": "code",
   "execution_count": null,
   "metadata": {},
   "outputs": [],
   "source": [
    "import torchvision\n",
    "from torchview import draw_graph\n",
    "with torch.no_grad():\n",
    "    model_graph = draw_graph(model, input_size=(1,180,7), expand_nested=True)\n",
    "model_graph.visual_graph"
   ]
  }
 ],
 "metadata": {
  "kernelspec": {
   "display_name": "majorProject",
   "language": "python",
   "name": "python3"
  },
  "language_info": {
   "codemirror_mode": {
    "name": "ipython",
    "version": 3
   },
   "file_extension": ".py",
   "mimetype": "text/x-python",
   "name": "python",
   "nbconvert_exporter": "python",
   "pygments_lexer": "ipython3",
   "version": "3.11.4"
  },
  "orig_nbformat": 4
 },
 "nbformat": 4,
 "nbformat_minor": 2
}

{
 "cells": [
  {
   "cell_type": "code",
   "execution_count": 1,
   "metadata": {},
   "outputs": [
    {
     "data": {
      "text/plain": [
       "<torch._C.Generator at 0x19cb5dc4cd0>"
      ]
     },
     "execution_count": 1,
     "metadata": {},
     "output_type": "execute_result"
    }
   ],
   "source": [
    "import numpy as np\n",
    "import pandas as pd\n",
    "\n",
    "import torch\n",
    "import torch.nn as nn\n",
    "from torch.autograd import Variable\n",
    "from torchinfo import summary\n",
    "import joblib\n",
    "torch.manual_seed(42)"
   ]
  },
  {
   "cell_type": "code",
   "execution_count": 2,
   "metadata": {},
   "outputs": [
    {
     "data": {
      "text/plain": [
       "device(type='cpu')"
      ]
     },
     "execution_count": 2,
     "metadata": {},
     "output_type": "execute_result"
    }
   ],
   "source": [
    "device = torch.device(\"cuda\" if torch.cuda.is_available() else \"cpu\")\n",
    "device"
   ]
  },
  {
   "cell_type": "code",
   "execution_count": 3,
   "metadata": {},
   "outputs": [],
   "source": [
    "validation_data=pd.read_csv('./assets/processed dataset/validation dataset.csv')\n",
    "test_data=pd.read_csv('./assets/processed dataset/test dataset.csv')\n",
    "scaler =joblib.load('./assets/scaler.gz')"
   ]
  },
  {
   "cell_type": "code",
   "execution_count": 4,
   "metadata": {},
   "outputs": [
    {
     "data": {
      "text/plain": [
       "array([0.        , 0.25459318, 0.43522505, 0.29502573])"
      ]
     },
     "execution_count": 4,
     "metadata": {},
     "output_type": "execute_result"
    }
   ],
   "source": [
    "df1=test_data\n",
    "input_test=scaler.transform(df1)\n",
    "input_test[0]"
   ]
  },
  {
   "cell_type": "code",
   "execution_count": 5,
   "metadata": {},
   "outputs": [
    {
     "name": "stdout",
     "output_type": "stream",
     "text": [
      "(1957, 180, 4) (1957, 4)\n",
      "torch.Size([1957, 180, 4]) torch.Size([1957, 4])\n"
     ]
    }
   ],
   "source": [
    "seq_length=180\n",
    "#Getting x and y for testing\n",
    "X_test=[]\n",
    "Y_test=[]\n",
    "\n",
    "for i in range(seq_length,input_test.shape[0]):\n",
    "    #Input features from 0 to 59\n",
    "    X_test.append(input_test[i-seq_length:i])\n",
    "    #T2M at 60\n",
    "    Y_test.append(input_test[i])\n",
    "\n",
    "# converting into numpy arrays\n",
    "X_test,Y_test=np.array(X_test),np.array(Y_test)\n",
    "Y_test=Y_test.reshape(-1,4)\n",
    "print(X_test.shape,Y_test.shape)\n",
    "\n",
    "X_test = Variable(torch.Tensor(X_test))\n",
    "Y_test = Variable(torch.Tensor(Y_test))\n",
    "print(X_test.shape,Y_test.shape)"
   ]
  },
  {
   "cell_type": "code",
   "execution_count": 6,
   "metadata": {},
   "outputs": [],
   "source": [
    "#Stacked lstm Network definition\n",
    "class NETWORK_STACKED_LSTM(nn.Module):\n",
    "\n",
    "    def __init__(self,num_classes,input_size,hidden_size,hidden_size2,num_layers):\n",
    "        super(NETWORK_STACKED_LSTM,self).__init__()\n",
    "        self.num_classes = num_classes\n",
    "        self.num_layers = num_layers\n",
    "        self.input_size = input_size\n",
    "        self.hidden_size = hidden_size\n",
    "        self.hidden_size2 = hidden_size2\n",
    "        self.lstm1=nn.LSTM(input_size=input_size, hidden_size=hidden_size,\n",
    "                            num_layers=num_layers, batch_first=True).to(device)\n",
    "        self.lstm2=nn.LSTM(input_size=hidden_size, hidden_size=hidden_size2,\n",
    "                            num_layers=num_layers, batch_first=True).to(device)\n",
    "        self.fc=nn.Linear(hidden_size2,num_classes)\n",
    "    \n",
    "    def forward(self,x):\n",
    "        output_lstm1, (h_n,c_n) = self.lstm1(x)\n",
    "        h_2 = h_n\n",
    "        c_2 = c_n\n",
    "        output_lstm2, (h_n,c_n) = self.lstm2(output_lstm1, (h_2, c_2))\n",
    "\n",
    "        input_fc=output_lstm2[:,-1,:]\n",
    "        output_fc=self.fc(input_fc).to(device)\n",
    "        return output_fc"
   ]
  },
  {
   "cell_type": "code",
   "execution_count": 7,
   "metadata": {},
   "outputs": [
    {
     "data": {
      "text/plain": [
       "NETWORK_STACKED_LSTM(\n",
       "  (lstm1): LSTM(4, 8, batch_first=True)\n",
       "  (lstm2): LSTM(8, 8, batch_first=True)\n",
       "  (fc): Linear(in_features=8, out_features=4, bias=True)\n",
       ")"
      ]
     },
     "execution_count": 7,
     "metadata": {},
     "output_type": "execute_result"
    }
   ],
   "source": [
    "input_size=4\n",
    "hidden_size=8\n",
    "hidden_size2=8\n",
    "num_layers=1\n",
    "num_classes=4\n",
    "\n",
    "model=NETWORK_STACKED_LSTM(num_classes,input_size, hidden_size,hidden_size2,num_layers)\n",
    "model.load_state_dict(torch.load('./assets/trained models state/stacked_lstm_state.pt'))\n",
    "model.eval()\n"
   ]
  },
  {
   "cell_type": "code",
   "execution_count": 8,
   "metadata": {},
   "outputs": [],
   "source": [
    "#Testing model\n",
    "Y_pred=model(X_test.to(device))\n",
    "Y_pred=Y_pred.detach().numpy()"
   ]
  },
  {
   "cell_type": "code",
   "execution_count": 9,
   "metadata": {},
   "outputs": [
    {
     "data": {
      "text/plain": [
       "0.036667906"
      ]
     },
     "execution_count": 9,
     "metadata": {},
     "output_type": "execute_result"
    }
   ],
   "source": [
    "#MSE\n",
    "from sklearn.metrics import mean_squared_error\n",
    "mse=mean_squared_error(Y_test,Y_pred)\n",
    "mse"
   ]
  },
  {
   "cell_type": "code",
   "execution_count": 10,
   "metadata": {},
   "outputs": [
    {
     "data": {
      "text/plain": [
       "4.215884512447575"
      ]
     },
     "execution_count": 10,
     "metadata": {},
     "output_type": "execute_result"
    }
   ],
   "source": [
    "from sktime.performance_metrics.forecasting import mean_absolute_scaled_error\n",
    "mase=mean_absolute_scaled_error(Y_test,Y_pred,y_train=Y_test)\n",
    "mase"
   ]
  },
  {
   "cell_type": "code",
   "execution_count": 11,
   "metadata": {},
   "outputs": [
    {
     "name": "stderr",
     "output_type": "stream",
     "text": [
      "\n",
      "(dot.exe:6884): Pango-WARNING **: couldn't load font \"Linux libertine Not-Rotated 10\", falling back to \"Sans Not-Rotated 10\", expect ugly output.\n"
     ]
    },
    {
     "data": {
      "image/svg+xml": [
       "<?xml version=\"1.0\" encoding=\"UTF-8\" standalone=\"no\"?>\n",
       "<!DOCTYPE svg PUBLIC \"-//W3C//DTD SVG 1.1//EN\"\n",
       " \"http://www.w3.org/Graphics/SVG/1.1/DTD/svg11.dtd\">\n",
       "<!-- Generated by graphviz version 9.0.0 (20230911.1827)\n",
       " -->\n",
       "<!-- Title: model Pages: 1 -->\n",
       "<svg width=\"209pt\" height=\"528pt\"\n",
       " viewBox=\"0.00 0.00 209.00 528.25\" xmlns=\"http://www.w3.org/2000/svg\" xmlns:xlink=\"http://www.w3.org/1999/xlink\">\n",
       "<g id=\"graph0\" class=\"graph\" transform=\"scale(1 1) rotate(0) translate(4 524.25)\">\n",
       "<title>model</title>\n",
       "<polygon fill=\"white\" stroke=\"none\" points=\"-4,4 -4,-524.25 205,-524.25 205,4 -4,4\"/>\n",
       "<!-- 0 -->\n",
       "<g id=\"node1\" class=\"node\">\n",
       "<title>0</title>\n",
       "<polygon fill=\"lightyellow\" stroke=\"none\" points=\"159.25,-520.25 41.75,-520.25 41.75,-486.25 159.25,-486.25 159.25,-520.25\"/>\n",
       "<polygon fill=\"none\" stroke=\"black\" points=\"41.75,-486.25 41.75,-520.25 103.5,-520.25 103.5,-486.25 41.75,-486.25\"/>\n",
       "<text text-anchor=\"start\" x=\"46.75\" y=\"-505.75\" font-family=\"Linux libertine\" font-size=\"10.00\">input&#45;tensor</text>\n",
       "<text text-anchor=\"start\" x=\"56.12\" y=\"-493.75\" font-family=\"Linux libertine\" font-size=\"10.00\">depth:0</text>\n",
       "<polygon fill=\"none\" stroke=\"black\" points=\"103.5,-486.25 103.5,-520.25 159.25,-520.25 159.25,-486.25 103.5,-486.25\"/>\n",
       "<text text-anchor=\"start\" x=\"108.5\" y=\"-499.75\" font-family=\"Linux libertine\" font-size=\"10.00\">(1, 180, 7)</text>\n",
       "</g>\n",
       "<!-- 1 -->\n",
       "<g id=\"node2\" class=\"node\">\n",
       "<title>1</title>\n",
       "<polygon fill=\"#c1ffc1\" stroke=\"none\" points=\"201,-449.25 0,-449.25 0,-405.25 201,-405.25 201,-449.25\"/>\n",
       "<polygon fill=\"none\" stroke=\"black\" points=\"0,-405.25 0,-449.25 43,-449.25 43,-405.25 0,-405.25\"/>\n",
       "<text text-anchor=\"start\" x=\"9.5\" y=\"-429.75\" font-family=\"Linux libertine\" font-size=\"10.00\">LSTM</text>\n",
       "<text text-anchor=\"start\" x=\"5\" y=\"-417.75\" font-family=\"Linux libertine\" font-size=\"10.00\">depth:1</text>\n",
       "<polygon fill=\"none\" stroke=\"black\" points=\"43,-427.25 43,-449.25 86,-449.25 86,-427.25 43,-427.25\"/>\n",
       "<text text-anchor=\"start\" x=\"52.12\" y=\"-434.75\" font-family=\"Linux libertine\" font-size=\"10.00\">input:</text>\n",
       "<polygon fill=\"none\" stroke=\"black\" points=\"86,-427.25 86,-449.25 201,-449.25 201,-427.25 86,-427.25\"/>\n",
       "<text text-anchor=\"start\" x=\"119.12\" y=\"-434.75\" font-family=\"Linux libertine\" font-size=\"10.00\">(1, 180, 7) </text>\n",
       "<polygon fill=\"none\" stroke=\"black\" points=\"43,-405.25 43,-427.25 86,-427.25 86,-405.25 43,-405.25\"/>\n",
       "<text text-anchor=\"start\" x=\"47.62\" y=\"-412.75\" font-family=\"Linux libertine\" font-size=\"10.00\">output: </text>\n",
       "<polygon fill=\"none\" stroke=\"black\" points=\"86,-405.25 86,-427.25 201,-427.25 201,-405.25 86,-405.25\"/>\n",
       "<text text-anchor=\"start\" x=\"90.62\" y=\"-412.75\" font-family=\"Linux libertine\" font-size=\"10.00\">(1, 180, 8), 2 x (1, 1, 8) </text>\n",
       "</g>\n",
       "<!-- 0&#45;&gt;1 -->\n",
       "<g id=\"edge1\" class=\"edge\">\n",
       "<title>0&#45;&gt;1</title>\n",
       "<path fill=\"none\" stroke=\"black\" d=\"M100.5,-486.56C100.5,-478.95 100.5,-469.51 100.5,-460.46\"/>\n",
       "<polygon fill=\"black\" stroke=\"black\" points=\"104,-460.49 100.5,-450.49 97,-460.49 104,-460.49\"/>\n",
       "</g>\n",
       "<!-- 2 -->\n",
       "<g id=\"node3\" class=\"node\">\n",
       "<title>2</title>\n",
       "<polygon fill=\"#c1ffc1\" stroke=\"none\" points=\"201,-358 0,-358 0,-314 201,-314 201,-358\"/>\n",
       "<polygon fill=\"none\" stroke=\"black\" points=\"0,-314 0,-358 43,-358 43,-314 0,-314\"/>\n",
       "<text text-anchor=\"start\" x=\"9.5\" y=\"-338.5\" font-family=\"Linux libertine\" font-size=\"10.00\">LSTM</text>\n",
       "<text text-anchor=\"start\" x=\"5\" y=\"-326.5\" font-family=\"Linux libertine\" font-size=\"10.00\">depth:1</text>\n",
       "<polygon fill=\"none\" stroke=\"black\" points=\"43,-336 43,-358 86,-358 86,-336 43,-336\"/>\n",
       "<text text-anchor=\"start\" x=\"52.12\" y=\"-343.5\" font-family=\"Linux libertine\" font-size=\"10.00\">input:</text>\n",
       "<polygon fill=\"none\" stroke=\"black\" points=\"86,-336 86,-358 201,-358 201,-336 86,-336\"/>\n",
       "<text text-anchor=\"start\" x=\"90.62\" y=\"-343.5\" font-family=\"Linux libertine\" font-size=\"10.00\">(1, 180, 8), 2 x (1, 1, 8) </text>\n",
       "<polygon fill=\"none\" stroke=\"black\" points=\"43,-314 43,-336 86,-336 86,-314 43,-314\"/>\n",
       "<text text-anchor=\"start\" x=\"47.62\" y=\"-321.5\" font-family=\"Linux libertine\" font-size=\"10.00\">output: </text>\n",
       "<polygon fill=\"none\" stroke=\"black\" points=\"86,-314 86,-336 201,-336 201,-314 86,-314\"/>\n",
       "<text text-anchor=\"start\" x=\"90.62\" y=\"-321.5\" font-family=\"Linux libertine\" font-size=\"10.00\">(1, 180, 8), 2 x (1, 1, 8) </text>\n",
       "</g>\n",
       "<!-- 1&#45;&gt;2 -->\n",
       "<g id=\"edge2\" class=\"edge\">\n",
       "<title>1&#45;&gt;2</title>\n",
       "<path fill=\"none\" stroke=\"black\" d=\"M100.5,-405.55C100.5,-394.81 100.5,-381.45 100.5,-369.39\"/>\n",
       "<polygon fill=\"black\" stroke=\"black\" points=\"104,-369.41 100.5,-359.41 97,-369.41 104,-369.41\"/>\n",
       "<text text-anchor=\"middle\" x=\"105.75\" y=\"-377.75\" font-family=\"Times New Roman,serif\" font-size=\"10.00\"> x3</text>\n",
       "</g>\n",
       "<!-- 3 -->\n",
       "<g id=\"node4\" class=\"node\">\n",
       "<title>3</title>\n",
       "<polygon fill=\"aliceblue\" stroke=\"none\" points=\"182.5,-277 18.5,-277 18.5,-233 182.5,-233 182.5,-277\"/>\n",
       "<polygon fill=\"none\" stroke=\"black\" points=\"18.5,-233 18.5,-277 81.5,-277 81.5,-233 18.5,-233\"/>\n",
       "<text text-anchor=\"start\" x=\"23.38\" y=\"-257.5\" font-family=\"Linux libertine\" font-size=\"10.00\">__getitem__</text>\n",
       "<text text-anchor=\"start\" x=\"33.5\" y=\"-245.5\" font-family=\"Linux libertine\" font-size=\"10.00\">depth:1</text>\n",
       "<polygon fill=\"none\" stroke=\"black\" points=\"81.5,-255 81.5,-277 124.5,-277 124.5,-255 81.5,-255\"/>\n",
       "<text text-anchor=\"start\" x=\"90.62\" y=\"-262.5\" font-family=\"Linux libertine\" font-size=\"10.00\">input:</text>\n",
       "<polygon fill=\"none\" stroke=\"black\" points=\"124.5,-255 124.5,-277 182.5,-277 182.5,-255 124.5,-255\"/>\n",
       "<text text-anchor=\"start\" x=\"129.12\" y=\"-262.5\" font-family=\"Linux libertine\" font-size=\"10.00\">(1, 180, 8) </text>\n",
       "<polygon fill=\"none\" stroke=\"black\" points=\"81.5,-233 81.5,-255 124.5,-255 124.5,-233 81.5,-233\"/>\n",
       "<text text-anchor=\"start\" x=\"86.12\" y=\"-240.5\" font-family=\"Linux libertine\" font-size=\"10.00\">output: </text>\n",
       "<polygon fill=\"none\" stroke=\"black\" points=\"124.5,-233 124.5,-255 182.5,-255 182.5,-233 124.5,-233\"/>\n",
       "<text text-anchor=\"start\" x=\"140\" y=\"-240.5\" font-family=\"Linux libertine\" font-size=\"10.00\">(1, 8) </text>\n",
       "</g>\n",
       "<!-- 2&#45;&gt;3 -->\n",
       "<g id=\"edge3\" class=\"edge\">\n",
       "<title>2&#45;&gt;3</title>\n",
       "<path fill=\"none\" stroke=\"black\" d=\"M100.5,-314.24C100.5,-306.32 100.5,-297.09 100.5,-288.35\"/>\n",
       "<polygon fill=\"black\" stroke=\"black\" points=\"104,-288.41 100.5,-278.41 97,-288.41 104,-288.41\"/>\n",
       "</g>\n",
       "<!-- 4 -->\n",
       "<g id=\"node5\" class=\"node\">\n",
       "<title>4</title>\n",
       "<polygon fill=\"#c1ffc1\" stroke=\"none\" points=\"162,-196 39,-196 39,-152 162,-152 162,-196\"/>\n",
       "<polygon fill=\"none\" stroke=\"black\" points=\"39,-152 39,-196 82,-196 82,-152 39,-152\"/>\n",
       "<text text-anchor=\"start\" x=\"47.38\" y=\"-176.5\" font-family=\"Linux libertine\" font-size=\"10.00\">Linear</text>\n",
       "<text text-anchor=\"start\" x=\"44\" y=\"-164.5\" font-family=\"Linux libertine\" font-size=\"10.00\">depth:1</text>\n",
       "<polygon fill=\"none\" stroke=\"black\" points=\"82,-174 82,-196 125,-196 125,-174 82,-174\"/>\n",
       "<text text-anchor=\"start\" x=\"91.12\" y=\"-181.5\" font-family=\"Linux libertine\" font-size=\"10.00\">input:</text>\n",
       "<polygon fill=\"none\" stroke=\"black\" points=\"125,-174 125,-196 162,-196 162,-174 125,-174\"/>\n",
       "<text text-anchor=\"start\" x=\"130\" y=\"-181.5\" font-family=\"Linux libertine\" font-size=\"10.00\">(1, 8) </text>\n",
       "<polygon fill=\"none\" stroke=\"black\" points=\"82,-152 82,-174 125,-174 125,-152 82,-152\"/>\n",
       "<text text-anchor=\"start\" x=\"86.62\" y=\"-159.5\" font-family=\"Linux libertine\" font-size=\"10.00\">output: </text>\n",
       "<polygon fill=\"none\" stroke=\"black\" points=\"125,-152 125,-174 162,-174 162,-152 125,-152\"/>\n",
       "<text text-anchor=\"start\" x=\"130\" y=\"-159.5\" font-family=\"Linux libertine\" font-size=\"10.00\">(1, 4) </text>\n",
       "</g>\n",
       "<!-- 3&#45;&gt;4 -->\n",
       "<g id=\"edge4\" class=\"edge\">\n",
       "<title>3&#45;&gt;4</title>\n",
       "<path fill=\"none\" stroke=\"black\" d=\"M100.5,-233.24C100.5,-225.32 100.5,-216.09 100.5,-207.35\"/>\n",
       "<polygon fill=\"black\" stroke=\"black\" points=\"104,-207.41 100.5,-197.41 97,-207.41 104,-207.41\"/>\n",
       "</g>\n",
       "<!-- 5 -->\n",
       "<g id=\"node6\" class=\"node\">\n",
       "<title>5</title>\n",
       "<polygon fill=\"aliceblue\" stroke=\"none\" points=\"162,-115 39,-115 39,-71 162,-71 162,-115\"/>\n",
       "<polygon fill=\"none\" stroke=\"black\" points=\"39,-71 39,-115 82,-115 82,-71 39,-71\"/>\n",
       "<text text-anchor=\"start\" x=\"56.38\" y=\"-95.5\" font-family=\"Linux libertine\" font-size=\"10.00\">to</text>\n",
       "<text text-anchor=\"start\" x=\"44\" y=\"-83.5\" font-family=\"Linux libertine\" font-size=\"10.00\">depth:1</text>\n",
       "<polygon fill=\"none\" stroke=\"black\" points=\"82,-93 82,-115 125,-115 125,-93 82,-93\"/>\n",
       "<text text-anchor=\"start\" x=\"91.12\" y=\"-100.5\" font-family=\"Linux libertine\" font-size=\"10.00\">input:</text>\n",
       "<polygon fill=\"none\" stroke=\"black\" points=\"125,-93 125,-115 162,-115 162,-93 125,-93\"/>\n",
       "<text text-anchor=\"start\" x=\"130\" y=\"-100.5\" font-family=\"Linux libertine\" font-size=\"10.00\">(1, 4) </text>\n",
       "<polygon fill=\"none\" stroke=\"black\" points=\"82,-71 82,-93 125,-93 125,-71 82,-71\"/>\n",
       "<text text-anchor=\"start\" x=\"86.62\" y=\"-78.5\" font-family=\"Linux libertine\" font-size=\"10.00\">output: </text>\n",
       "<polygon fill=\"none\" stroke=\"black\" points=\"125,-71 125,-93 162,-93 162,-71 125,-71\"/>\n",
       "<text text-anchor=\"start\" x=\"130\" y=\"-78.5\" font-family=\"Linux libertine\" font-size=\"10.00\">(1, 4) </text>\n",
       "</g>\n",
       "<!-- 4&#45;&gt;5 -->\n",
       "<g id=\"edge5\" class=\"edge\">\n",
       "<title>4&#45;&gt;5</title>\n",
       "<path fill=\"none\" stroke=\"black\" d=\"M100.5,-152.24C100.5,-144.32 100.5,-135.09 100.5,-126.35\"/>\n",
       "<polygon fill=\"black\" stroke=\"black\" points=\"104,-126.41 100.5,-116.41 97,-126.41 104,-126.41\"/>\n",
       "</g>\n",
       "<!-- 6 -->\n",
       "<g id=\"node7\" class=\"node\">\n",
       "<title>6</title>\n",
       "<polygon fill=\"lightyellow\" stroke=\"none\" points=\"151.38,-34 49.63,-34 49.63,0 151.38,0 151.38,-34\"/>\n",
       "<polygon fill=\"none\" stroke=\"black\" points=\"49.62,0 49.62,-34 117.38,-34 117.38,0 49.62,0\"/>\n",
       "<text text-anchor=\"start\" x=\"54.62\" y=\"-19.5\" font-family=\"Linux libertine\" font-size=\"10.00\">output&#45;tensor</text>\n",
       "<text text-anchor=\"start\" x=\"67\" y=\"-7.5\" font-family=\"Linux libertine\" font-size=\"10.00\">depth:0</text>\n",
       "<polygon fill=\"none\" stroke=\"black\" points=\"117.38,0 117.38,-34 151.38,-34 151.38,0 117.38,0\"/>\n",
       "<text text-anchor=\"start\" x=\"122.38\" y=\"-13.5\" font-family=\"Linux libertine\" font-size=\"10.00\">(1, 4)</text>\n",
       "</g>\n",
       "<!-- 5&#45;&gt;6 -->\n",
       "<g id=\"edge6\" class=\"edge\">\n",
       "<title>5&#45;&gt;6</title>\n",
       "<path fill=\"none\" stroke=\"black\" d=\"M100.5,-71.39C100.5,-63.15 100.5,-53.57 100.5,-44.8\"/>\n",
       "<polygon fill=\"black\" stroke=\"black\" points=\"104,-45.09 100.5,-35.09 97,-45.09 104,-45.09\"/>\n",
       "</g>\n",
       "</g>\n",
       "</svg>\n"
      ],
      "text/plain": [
       "<graphviz.graphs.Digraph at 0x19cce2ef890>"
      ]
     },
     "execution_count": 11,
     "metadata": {},
     "output_type": "execute_result"
    }
   ],
   "source": [
    "import torchvision\n",
    "from torchview import draw_graph\n",
    "with torch.no_grad():\n",
    "    model_graph = draw_graph(model, input_size=(1,180,7), expand_nested=True)\n",
    "model_graph.visual_graph"
   ]
  }
 ],
 "metadata": {
  "kernelspec": {
   "display_name": "majorProject",
   "language": "python",
   "name": "python3"
  },
  "language_info": {
   "codemirror_mode": {
    "name": "ipython",
    "version": 3
   },
   "file_extension": ".py",
   "mimetype": "text/x-python",
   "name": "python",
   "nbconvert_exporter": "python",
   "pygments_lexer": "ipython3",
   "version": "3.11.4"
  },
  "orig_nbformat": 4
 },
 "nbformat": 4,
 "nbformat_minor": 2
}

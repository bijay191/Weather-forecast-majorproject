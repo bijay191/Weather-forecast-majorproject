{
 "cells": [
  {
   "cell_type": "code",
   "execution_count": 1,
   "metadata": {},
   "outputs": [
    {
     "data": {
      "text/plain": [
       "<torch._C.Generator at 0x1d7fd9d3bb0>"
      ]
     },
     "execution_count": 1,
     "metadata": {},
     "output_type": "execute_result"
    }
   ],
   "source": [
    "import numpy as np\n",
    "import pandas as pd\n",
    "import matplotlib.pyplot as plt\n",
    "\n",
    "import torch\n",
    "import torch.nn as nn\n",
    "from torch.autograd import Variable\n",
    "from torchinfo import summary\n",
    "from sklearn.preprocessing import MinMaxScaler\n",
    "\n",
    "import joblib\n",
    "import pennylane as qml\n",
    "torch.manual_seed(42)"
   ]
  },
  {
   "cell_type": "code",
   "execution_count": 2,
   "metadata": {},
   "outputs": [
    {
     "data": {
      "text/plain": [
       "device(type='cpu')"
      ]
     },
     "execution_count": 2,
     "metadata": {},
     "output_type": "execute_result"
    }
   ],
   "source": [
    "device = torch.device(\"cuda\" if torch.cuda.is_available() else \"cpu\")\n",
    "device"
   ]
  },
  {
   "cell_type": "code",
   "execution_count": 3,
   "metadata": {},
   "outputs": [],
   "source": [
    "train_data=pd.read_csv('./assets/processed dataset/train dataset.csv')\n",
    "validation_data=pd.read_csv('./assets/processed dataset/validation dataset.csv')"
   ]
  },
  {
   "cell_type": "code",
   "execution_count": 4,
   "metadata": {},
   "outputs": [
    {
     "name": "stdout",
     "output_type": "stream",
     "text": [
      "[0.         0.22440945 0.2704501  0.35034305]\n",
      "[0.         0.17847769 0.7592955  0.64193825]\n"
     ]
    }
   ],
   "source": [
    "#Data scaling\n",
    "scaler=MinMaxScaler()\n",
    "normalized_train_data=scaler.fit_transform(train_data)\n",
    "joblib.dump(scaler, \"./assets/scaler.gz\") \n",
    "print(normalized_train_data[0])\n",
    "normalized_validation_data=scaler.transform(validation_data)\n",
    "print(normalized_validation_data[0])"
   ]
  },
  {
   "cell_type": "code",
   "execution_count": 5,
   "metadata": {},
   "outputs": [
    {
     "name": "stdout",
     "output_type": "stream",
     "text": [
      "(9789, 180, 4) (9789, 4)\n",
      "(1956, 180, 4) (1956, 4)\n",
      "torch.Size([9789, 180, 4]) torch.Size([9789, 4])\n",
      "torch.Size([1956, 180, 4]) torch.Size([1956, 4])\n"
     ]
    }
   ],
   "source": [
    "#Prepearing X and Y for training and validation\n",
    "# Setting THE SEQUENCE LENGTH \n",
    "seq_length=180\n",
    "#initialized to a empty 1d list\n",
    "X_train=[]\n",
    "Y_train=[]\n",
    "X_validate=[]\n",
    "Y_validate=[]\n",
    "for i in range(seq_length,train_data.shape[0]):\n",
    "    #Data from 0 to 59TH index\n",
    "    X_train.append(normalized_train_data[i-seq_length:i])\n",
    "    #T2M AT THE 60TH index\n",
    "    Y_train.append(normalized_train_data[i])\n",
    "\n",
    "for i in range(seq_length,validation_data.shape[0]):\n",
    "    #Data from 0 to 59TH index\n",
    "    X_validate.append(normalized_validation_data[i-seq_length:i])\n",
    "    #T2M AT THE 60TH index\n",
    "    Y_validate.append(normalized_validation_data[i])\n",
    "\n",
    "# converting into numpy arrays\n",
    "X_train,Y_train=np.array(X_train),np.array(Y_train)\n",
    "#change to 2d array from 1d array\n",
    "Y_train=Y_train.reshape(-1,4)\n",
    "print(X_train.shape,Y_train.shape)\n",
    "\n",
    "X_validate,Y_validate=np.array(X_validate),np.array(Y_validate)\n",
    "Y_validate=Y_validate.reshape(-1,4)\n",
    "print(X_validate.shape,Y_validate.shape)\n",
    "\n",
    "X_train = Variable(torch.Tensor(X_train))\n",
    "Y_train = Variable(torch.Tensor(Y_train))\n",
    "print(X_train.shape,Y_train.shape)\n",
    "\n",
    "X_validate = Variable(torch.Tensor(X_validate))\n",
    "Y_validate = Variable(torch.Tensor(Y_validate))\n",
    "print(X_validate.shape,Y_validate.shape)"
   ]
  },
  {
   "cell_type": "code",
   "execution_count": 6,
   "metadata": {},
   "outputs": [
    {
     "data": {
      "text/plain": [
       "<Quantum Torch Layer: func=circuit>"
      ]
     },
     "execution_count": 6,
     "metadata": {},
     "output_type": "execute_result"
    }
   ],
   "source": [
    "#Defining quantum layer\n",
    "n_qubits = 4\n",
    "n_layers=6\n",
    "weight_shapes = {\"weights\": (n_layers, n_qubits)}\n",
    "dev = qml.device(\"default.qubit\", wires=n_qubits)\n",
    "\n",
    "@qml.qnode(dev,interface='torch')\n",
    "def circuit(inputs, weights):\n",
    "    qml.templates.AngleEmbedding(inputs, wires=range(n_qubits))\n",
    "    qml.templates.BasicEntanglerLayers(weights, wires=range(n_qubits))\n",
    "    exp_val=[qml.expval(qml.PauliZ(wires=i)) for i in range(n_qubits)]\n",
    "    return tuple(exp_val)\n",
    "    #return exp_val\n",
    "\n",
    "# qml.drawer.use_style(\"black_white\")\n",
    "# fig,ax=qml.draw_mpl(circuit)([0.26,0.28,3.31,0.85],torch.randn(6,4))\n",
    "# plt.show()\n",
    "qlayer = qml.qnn.TorchLayer(circuit, weight_shapes)\n",
    "qlayer"
   ]
  },
  {
   "cell_type": "code",
   "execution_count": 7,
   "metadata": {},
   "outputs": [],
   "source": [
    "#HYBRID QLSTM Network definition\n",
    "class NETWORK_HYBRID_BILSTM(nn.Module):\n",
    "\n",
    "    def __init__(self,num_classes,input_size,hidden_size,num_layers):\n",
    "        super(NETWORK_HYBRID_BILSTM,self).__init__()\n",
    "        self.num_classes = num_classes\n",
    "        self.num_layers = num_layers\n",
    "        self.input_size = input_size\n",
    "        self.hidden_size = hidden_size\n",
    "        self.lstm1=nn.LSTM(input_size=input_size, hidden_size=hidden_size,\n",
    "                            num_layers=num_layers, batch_first=True,bidirectional=True).to(device)\n",
    "        \n",
    "        self.fc1=nn.Linear(hidden_size*2,n_qubits)\n",
    "        self.qlayer=qlayer\n",
    "        self.fc2=nn.Linear(n_qubits,num_classes)\n",
    "    \n",
    "    def forward(self,x):\n",
    "        output_lstm1, (h_n,c_n) = self.lstm1(x)\n",
    "        output_fc1=self.fc1(output_lstm1[:,-1,:])\n",
    "        input_q=output_fc1        \n",
    "        output_q=self.qlayer(input_q)\n",
    "        output_fc2=self.fc2(output_q).to(device)\n",
    "        return output_fc2"
   ]
  },
  {
   "cell_type": "code",
   "execution_count": 8,
   "metadata": {},
   "outputs": [
    {
     "data": {
      "text/plain": [
       "NETWORK_HYBRID_BILSTM(\n",
       "  (lstm1): LSTM(4, 8, batch_first=True, bidirectional=True)\n",
       "  (fc1): Linear(in_features=16, out_features=4, bias=True)\n",
       "  (qlayer): <Quantum Torch Layer: func=circuit>\n",
       "  (fc2): Linear(in_features=4, out_features=4, bias=True)\n",
       ")"
      ]
     },
     "execution_count": 8,
     "metadata": {},
     "output_type": "execute_result"
    }
   ],
   "source": [
    "#Initializing model with parameters\n",
    "num_epochs=50\n",
    "learning_rate=0.01\n",
    "input_size=4\n",
    "hidden_size=8\n",
    "hidden_size2=8\n",
    "num_layers=1\n",
    "num_classes=4\n",
    "\n",
    "model=NETWORK_HYBRID_BILSTM(num_classes,input_size, hidden_size,num_layers)\n",
    "model.to(device)"
   ]
  },
  {
   "cell_type": "code",
   "execution_count": 9,
   "metadata": {},
   "outputs": [
    {
     "name": "stdout",
     "output_type": "stream",
     "text": [
      "Epoch: 1, training loss: 0.40988, validation loss: 0.37173\n",
      "Epoch: 2, training loss: 0.37716, validation loss: 0.34013\n",
      "Epoch: 3, training loss: 0.34574, validation loss: 0.31002\n",
      "Epoch: 4, training loss: 0.31594, validation loss: 0.28180\n",
      "Epoch: 5, training loss: 0.28809, validation loss: 0.25544\n",
      "Epoch: 6, training loss: 0.26209, validation loss: 0.23068\n",
      "Epoch: 7, training loss: 0.23762, validation loss: 0.20726\n",
      "Epoch: 8, training loss: 0.21435, validation loss: 0.18525\n",
      "Epoch: 9, training loss: 0.19240, validation loss: 0.16490\n",
      "Epoch: 10, training loss: 0.17203, validation loss: 0.14630\n",
      "Epoch: 11, training loss: 0.15339, validation loss: 0.12945\n",
      "Epoch: 12, training loss: 0.13648, validation loss: 0.11436\n",
      "Epoch: 13, training loss: 0.12131, validation loss: 0.10100\n",
      "Epoch: 14, training loss: 0.10786, validation loss: 0.08928\n",
      "Epoch: 15, training loss: 0.09602, validation loss: 0.07905\n",
      "Epoch: 16, training loss: 0.08565, validation loss: 0.07016\n",
      "Epoch: 17, training loss: 0.07656, validation loss: 0.06242\n",
      "Epoch: 18, training loss: 0.06859, validation loss: 0.05568\n",
      "Epoch: 19, training loss: 0.06153, validation loss: 0.04974\n",
      "Epoch: 20, training loss: 0.05522, validation loss: 0.04444\n",
      "Epoch: 21, training loss: 0.04947, validation loss: 0.03964\n",
      "Epoch: 22, training loss: 0.04415, validation loss: 0.03519\n",
      "Epoch: 23, training loss: 0.03916, validation loss: 0.03101\n",
      "Epoch: 24, training loss: 0.03442, validation loss: 0.02703\n",
      "Epoch: 25, training loss: 0.02990, validation loss: 0.02315\n",
      "Epoch: 26, training loss: 0.02554, validation loss: 0.01926\n",
      "Epoch: 27, training loss: 0.02126, validation loss: 0.01543\n",
      "Epoch: 28, training loss: 0.01709, validation loss: 0.01210\n",
      "Epoch: 29, training loss: 0.01348, validation loss: 0.00997\n",
      "Epoch: 30, training loss: 0.01111, validation loss: 0.00938\n",
      "Epoch: 31, training loss: 0.01033, validation loss: 0.00998\n",
      "Epoch: 32, training loss: 0.01078, validation loss: 0.01096\n",
      "Epoch: 33, training loss: 0.01159, validation loss: 0.01162\n",
      "Epoch: 34, training loss: 0.01203, validation loss: 0.01169\n",
      "Epoch: 35, training loss: 0.01184, validation loss: 0.01131\n",
      "Epoch: 36, training loss: 0.01115, validation loss: 0.01074\n",
      "Epoch: 37, training loss: 0.01026, validation loss: 0.01023\n",
      "Epoch: 38, training loss: 0.00947, validation loss: 0.00994\n",
      "Epoch: 39, training loss: 0.00892, validation loss: 0.00987\n",
      "Epoch: 40, training loss: 0.00866, validation loss: 0.01000\n",
      "Epoch: 41, training loss: 0.00864, validation loss: 0.01020\n",
      "Epoch: 42, training loss: 0.00875, validation loss: 0.01038\n",
      "Epoch: 43, training loss: 0.00887, validation loss: 0.01042\n",
      "Epoch: 44, training loss: 0.00889, validation loss: 0.01030\n",
      "Epoch: 45, training loss: 0.00879, validation loss: 0.01002\n",
      "Epoch: 46, training loss: 0.00857, validation loss: 0.00963\n",
      "Epoch: 47, training loss: 0.00828, validation loss: 0.00921\n",
      "Epoch: 48, training loss: 0.00798, validation loss: 0.00881\n",
      "Epoch: 49, training loss: 0.00773, validation loss: 0.00847\n",
      "Epoch: 50, training loss: 0.00753, validation loss: 0.00818\n"
     ]
    }
   ],
   "source": [
    "# DEFINE OPTIMIZER\n",
    "criterion = torch.nn.MSELoss()    # mean-squared error for regression\n",
    "optimizer = torch.optim.Adam(model.parameters(), lr=learning_rate)\n",
    "# Lists to store training losses for plotting the training curve\n",
    "train_losses = []\n",
    "valid_losses=[]\n",
    "#batch gradient descent\n",
    "# TRAIN THE MODEL:\n",
    "for epoch in range(1,num_epochs+1):\n",
    "    model.train()\n",
    "    outputs = model(X_train.to(device))\n",
    "    optimizer.zero_grad()\n",
    "    # obtain the loss function\n",
    "    loss = criterion(outputs, Y_train.to(device))\n",
    "    loss.backward()\n",
    "    optimizer.step()\n",
    "    train_losses.append(loss.item())\n",
    "    model.eval()\n",
    "    with torch.no_grad():\n",
    "        valid_outputs=model(X_validate.to(device))\n",
    "        valid_loss=criterion(valid_outputs,Y_validate.to(device))\n",
    "        valid_losses.append(valid_loss.item())\n",
    "    if epoch % 1 == 0:\n",
    "        print(\"Epoch: %d, training loss: %1.5f, validation loss: %1.5f\" % (epoch, loss.item(),valid_loss.item()))"
   ]
  },
  {
   "cell_type": "code",
   "execution_count": 10,
   "metadata": {},
   "outputs": [
    {
     "data": {
      "image/png": "[encoded data removed]",
      "text/plain": [
       "<Figure size 640x480 with 1 Axes>"
      ]
     },
     "metadata": {},
     "output_type": "display_data"
    }
   ],
   "source": [
    "# Plotting the training curve\n",
    "epochs=range(1,num_epochs+1)\n",
    "st=0;end=50\n",
    "plt.plot( epochs[st:end],train_losses[st:end], label='Training Loss')\n",
    "plt.plot(epochs[st:end],valid_losses[st:end], label='Validation Loss')\n",
    "plt.xlabel('Epochs')\n",
    "plt.ylabel('MSE Loss')\n",
    "plt.legend()\n",
    "plt.show()"
   ]
  },
  {
   "cell_type": "code",
   "execution_count": 11,
   "metadata": {},
   "outputs": [],
   "source": [
    "torch.save(model.state_dict(),'./assets/trained models state/hybrid_bilstm_state.pt')"
   ]
  }
 ],
 "metadata": {
  "kernelspec": {
   "display_name": "majorProject",
   "language": "python",
   "name": "python3"
  },
  "language_info": {
   "codemirror_mode": {
    "name": "ipython",
    "version": 3
   },
   "file_extension": ".py",
   "mimetype": "text/x-python",
   "name": "python",
   "nbconvert_exporter": "python",
   "pygments_lexer": "ipython3",
   "version": "3.11.4"
  },
  "orig_nbformat": 4
 },
 "nbformat": 4,
 "nbformat_minor": 2
}

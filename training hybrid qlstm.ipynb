{
 "cells": [
  {
   "cell_type": "code",
   "execution_count": 27,
   "metadata": {},
   "outputs": [
    {
     "data": {
      "text/plain": [
       "<torch._C.Generator at 0x214c9d53bf0>"
      ]
     },
     "execution_count": 27,
     "metadata": {},
     "output_type": "execute_result"
    }
   ],
   "source": [
    "import numpy as np\n",
    "import pandas as pd\n",
    "import matplotlib.pyplot as plt\n",
    "\n",
    "import torch\n",
    "import torch.nn as nn\n",
    "from torch.autograd import Variable\n",
    "from torchinfo import summary\n",
    "from sklearn.preprocessing import MinMaxScaler\n",
    "\n",
    "import joblib\n",
    "import pennylane as qml\n",
    "torch.manual_seed(42)"
   ]
  },
  {
   "cell_type": "code",
   "execution_count": 28,
   "metadata": {},
   "outputs": [
    {
     "data": {
      "text/plain": [
       "device(type='cpu')"
      ]
     },
     "execution_count": 28,
     "metadata": {},
     "output_type": "execute_result"
    }
   ],
   "source": [
    "device = torch.device(\"cuda\" if torch.cuda.is_available() else \"cpu\")\n",
    "device"
   ]
  },
  {
   "cell_type": "code",
   "execution_count": 29,
   "metadata": {},
   "outputs": [],
   "source": [
    "train_data=pd.read_csv('./assets/processed dataset/train dataset.csv')\n",
    "validation_data=pd.read_csv('./assets/processed dataset/validation dataset.csv')"
   ]
  },
  {
   "cell_type": "code",
   "execution_count": 30,
   "metadata": {},
   "outputs": [
    {
     "name": "stdout",
     "output_type": "stream",
     "text": [
      "[0.         0.19290466 0.20735786 0.21236002]\n",
      "[0.         0.27937916 0.25139353 0.35296557]\n"
     ]
    }
   ],
   "source": [
    "#Data scaling\n",
    "scaler=MinMaxScaler()\n",
    "normalized_train_data=scaler.fit_transform(train_data)\n",
    "joblib.dump(scaler, \"./assets/scaler.gz\") \n",
    "print(normalized_train_data[0])\n",
    "normalized_validation_data=scaler.transform(validation_data)\n",
    "print(normalized_validation_data[0])"
   ]
  },
  {
   "cell_type": "code",
   "execution_count": 31,
   "metadata": {},
   "outputs": [
    {
     "name": "stdout",
     "output_type": "stream",
     "text": [
      "(10813, 180, 4) (10813, 4)\n",
      "(2176, 180, 4) (2176, 4)\n",
      "torch.Size([10813, 180, 4]) torch.Size([10813, 4])\n",
      "torch.Size([2176, 180, 4]) torch.Size([2176, 4])\n"
     ]
    }
   ],
   "source": [
    "#Prepearing X and Y for training and validation\n",
    "# Setting THE SEQUENCE LENGTH \n",
    "seq_length=180\n",
    "#initialized to a empty 1d list\n",
    "X_train=[]\n",
    "Y_train=[]\n",
    "X_validate=[]\n",
    "Y_validate=[]\n",
    "for i in range(seq_length,train_data.shape[0]):\n",
    "    #Data from 0 to 59TH index\n",
    "    X_train.append(normalized_train_data[i-seq_length:i])\n",
    "    #T2M AT THE 60TH index\n",
    "    Y_train.append(normalized_train_data[i])\n",
    "\n",
    "for i in range(seq_length,validation_data.shape[0]):\n",
    "    #Data from 0 to 59TH index\n",
    "    X_validate.append(normalized_validation_data[i-seq_length:i])\n",
    "    #T2M AT THE 60TH index\n",
    "    Y_validate.append(normalized_validation_data[i])\n",
    "\n",
    "# converting into numpy arrays\n",
    "X_train,Y_train=np.array(X_train),np.array(Y_train)\n",
    "#change to 2d array from 1d array\n",
    "Y_train=Y_train.reshape(-1,4)\n",
    "print(X_train.shape,Y_train.shape)\n",
    "\n",
    "X_validate,Y_validate=np.array(X_validate),np.array(Y_validate)\n",
    "Y_validate=Y_validate.reshape(-1,4)\n",
    "print(X_validate.shape,Y_validate.shape)\n",
    "\n",
    "X_train = Variable(torch.Tensor(X_train))\n",
    "Y_train = Variable(torch.Tensor(Y_train))\n",
    "print(X_train.shape,Y_train.shape)\n",
    "\n",
    "X_validate = Variable(torch.Tensor(X_validate))\n",
    "Y_validate = Variable(torch.Tensor(Y_validate))\n",
    "print(X_validate.shape,Y_validate.shape)"
   ]
  },
  {
   "cell_type": "code",
   "execution_count": 32,
   "metadata": {},
   "outputs": [
    {
     "data": {
      "text/plain": [
       "<Quantum Torch Layer: func=circuit>"
      ]
     },
     "execution_count": 32,
     "metadata": {},
     "output_type": "execute_result"
    }
   ],
   "source": [
    "#Defining quantum layer\n",
    "n_qubits = 4\n",
    "n_layers=6\n",
    "weight_shapes = {\"weights\": (n_layers, n_qubits)}\n",
    "dev = qml.device(\"default.qubit\", wires=n_qubits)\n",
    "\n",
    "@qml.qnode(dev,interface='torch')\n",
    "def circuit(inputs, weights):\n",
    "    qml.templates.AngleEmbedding(inputs, wires=range(n_qubits))\n",
    "    qml.templates.BasicEntanglerLayers(weights, wires=range(n_qubits))\n",
    "    exp_val=[qml.expval(qml.PauliZ(wires=i)) for i in range(n_qubits)]\n",
    "    return tuple(exp_val)\n",
    "\n",
    "# qml.drawer.use_style(\"black_white\")\n",
    "# fig,ax=qml.draw_mpl(circuit)([0.26,0.28,3.31,0.85],torch.randn(6,4))\n",
    "# plt.show()\n",
    "qlayer = qml.qnn.TorchLayer(circuit, weight_shapes)\n",
    "qlayer"
   ]
  },
  {
   "cell_type": "code",
   "execution_count": 33,
   "metadata": {},
   "outputs": [],
   "source": [
    "#HYBRID QLSTM Network definition\n",
    "class NETWORK_HYBRID_QLSTM(nn.Module):\n",
    "\n",
    "    def __init__(self,num_classes,input_size,hidden_size,num_layers):\n",
    "        super(NETWORK_HYBRID_QLSTM,self).__init__()\n",
    "        self.num_classes = num_classes\n",
    "        self.num_layers = num_layers\n",
    "        self.input_size = input_size\n",
    "        self.hidden_size = hidden_size\n",
    "        self.lstm1=nn.LSTM(input_size=input_size, hidden_size=hidden_size,\n",
    "                            num_layers=num_layers, batch_first=True).to(device)\n",
    "        self.fc1=nn.Linear(hidden_size,n_qubits)\n",
    "        self.qlayer=qlayer\n",
    "        self.fc2=nn.Linear(n_qubits,num_classes)\n",
    "    \n",
    "    def forward(self,x):\n",
    "        output_lstm1, (h_n,c_n) = self.lstm1(x)\n",
    "        output_fc1=self.fc1(output_lstm1[:,-1,:])\n",
    "        input_q=output_fc1        \n",
    "        output_q=self.qlayer(input_q)\n",
    "        output_fc2=self.fc2(output_q).to(device)\n",
    "        return output_fc2"
   ]
  },
  {
   "cell_type": "code",
   "execution_count": 38,
   "metadata": {},
   "outputs": [
    {
     "data": {
      "text/plain": [
       "NETWORK_HYBRID_QLSTM(\n",
       "  (lstm1): LSTM(4, 16, num_layers=2, batch_first=True)\n",
       "  (fc1): Linear(in_features=16, out_features=4, bias=True)\n",
       "  (qlayer): <Quantum Torch Layer: func=circuit>\n",
       "  (fc2): Linear(in_features=4, out_features=4, bias=True)\n",
       ")"
      ]
     },
     "execution_count": 38,
     "metadata": {},
     "output_type": "execute_result"
    }
   ],
   "source": [
    "#Initializing model with parameters\n",
    "num_epochs=200\n",
    "learning_rate=0.01\n",
    "input_size=4\n",
    "hidden_size=16\n",
    "num_layers=2\n",
    "num_classes=4\n",
    "\n",
    "model=NETWORK_HYBRID_QLSTM(num_classes,input_size, hidden_size,num_layers)\n",
    "model.to(device)"
   ]
  },
  {
   "cell_type": "code",
   "execution_count": 39,
   "metadata": {},
   "outputs": [
    {
     "name": "stdout",
     "output_type": "stream",
     "text": [
      "Epoch: 1, training loss: 0.33544, validation loss: 0.31612\n",
      "Epoch: 2, training loss: 0.29375, validation loss: 0.27703\n",
      "Epoch: 3, training loss: 0.25596, validation loss: 0.24369\n",
      "Epoch: 4, training loss: 0.22392, validation loss: 0.22047\n",
      "Epoch: 5, training loss: 0.20188, validation loss: 0.20627\n",
      "Epoch: 6, training loss: 0.18861, validation loss: 0.18668\n",
      "Epoch: 7, training loss: 0.17023, validation loss: 0.16153\n",
      "Epoch: 8, training loss: 0.14666, validation loss: 0.13535\n",
      "Epoch: 9, training loss: 0.12231, validation loss: 0.11181\n",
      "Epoch: 10, training loss: 0.10065, validation loss: 0.09281\n",
      "Epoch: 11, training loss: 0.08346, validation loss: 0.07859\n",
      "Epoch: 12, training loss: 0.07088, validation loss: 0.06831\n",
      "Epoch: 13, training loss: 0.06203, validation loss: 0.06090\n",
      "Epoch: 14, training loss: 0.05581, validation loss: 0.05541\n",
      "Epoch: 15, training loss: 0.05129, validation loss: 0.05121\n",
      "Epoch: 16, training loss: 0.04786, validation loss: 0.04798\n",
      "Epoch: 17, training loss: 0.04524, validation loss: 0.04566\n",
      "Epoch: 18, training loss: 0.04340, validation loss: 0.04417\n",
      "Epoch: 19, training loss: 0.04237, validation loss: 0.04318\n",
      "Epoch: 20, training loss: 0.04190, validation loss: 0.04228\n",
      "Epoch: 21, training loss: 0.04166, validation loss: 0.04137\n",
      "Epoch: 22, training loss: 0.04150, validation loss: 0.04052\n",
      "Epoch: 23, training loss: 0.04142, validation loss: 0.03978\n",
      "Epoch: 24, training loss: 0.04135, validation loss: 0.03909\n",
      "Epoch: 25, training loss: 0.04116, validation loss: 0.03840\n",
      "Epoch: 26, training loss: 0.04073, validation loss: 0.03775\n",
      "Epoch: 27, training loss: 0.04007, validation loss: 0.03728\n",
      "Epoch: 28, training loss: 0.03937, validation loss: 0.03717\n",
      "Epoch: 29, training loss: 0.03885, validation loss: 0.03753\n",
      "Epoch: 30, training loss: 0.03869, validation loss: 0.03826\n",
      "Epoch: 31, training loss: 0.03893, validation loss: 0.03899\n",
      "Epoch: 32, training loss: 0.03934, validation loss: 0.03936\n",
      "Epoch: 33, training loss: 0.03963, validation loss: 0.03918\n",
      "Epoch: 34, training loss: 0.03963, validation loss: 0.03858\n",
      "Epoch: 35, training loss: 0.03940, validation loss: 0.03782\n",
      "Epoch: 36, training loss: 0.03910, validation loss: 0.03714\n",
      "Epoch: 37, training loss: 0.03888, validation loss: 0.03667\n",
      "Epoch: 38, training loss: 0.03879, validation loss: 0.03643\n",
      "Epoch: 39, training loss: 0.03877, validation loss: 0.03636\n",
      "Epoch: 40, training loss: 0.03876, validation loss: 0.03639\n",
      "Epoch: 41, training loss: 0.03871, validation loss: 0.03642\n",
      "Epoch: 42, training loss: 0.03857, validation loss: 0.03638\n",
      "Epoch: 43, training loss: 0.03835, validation loss: 0.03626\n",
      "Epoch: 44, training loss: 0.03804, validation loss: 0.03608\n",
      "Epoch: 45, training loss: 0.03771, validation loss: 0.03593\n",
      "Epoch: 46, training loss: 0.03740, validation loss: 0.03582\n",
      "Epoch: 47, training loss: 0.03713, validation loss: 0.03571\n",
      "Epoch: 48, training loss: 0.03683, validation loss: 0.03552\n",
      "Epoch: 49, training loss: 0.03644, validation loss: 0.03518\n",
      "Epoch: 50, training loss: 0.03591, validation loss: 0.03463\n",
      "Epoch: 51, training loss: 0.03518, validation loss: 0.03379\n",
      "Epoch: 52, training loss: 0.03425, validation loss: 0.03262\n",
      "Epoch: 53, training loss: 0.03306, validation loss: 0.03110\n",
      "Epoch: 54, training loss: 0.03157, validation loss: 0.02928\n",
      "Epoch: 55, training loss: 0.02972, validation loss: 0.02715\n",
      "Epoch: 56, training loss: 0.02744, validation loss: 0.02472\n",
      "Epoch: 57, training loss: 0.02479, validation loss: 0.02206\n",
      "Epoch: 58, training loss: 0.02196, validation loss: 0.01996\n",
      "Epoch: 59, training loss: 0.01956, validation loss: 0.01937\n",
      "Epoch: 60, training loss: 0.01848, validation loss: 0.01957\n",
      "Epoch: 61, training loss: 0.01880, validation loss: 0.02034\n",
      "Epoch: 62, training loss: 0.01876, validation loss: 0.01870\n",
      "Epoch: 63, training loss: 0.01754, validation loss: 0.01764\n",
      "Epoch: 64, training loss: 0.01700, validation loss: 0.01658\n",
      "Epoch: 65, training loss: 0.01551, validation loss: 0.01583\n",
      "Epoch: 66, training loss: 0.01491, validation loss: 0.01473\n",
      "Epoch: 67, training loss: 0.01463, validation loss: 0.01393\n",
      "Epoch: 68, training loss: 0.01357, validation loss: 0.01414\n",
      "Epoch: 69, training loss: 0.01356, validation loss: 0.01335\n",
      "Epoch: 70, training loss: 0.01304, validation loss: 0.01334\n",
      "Epoch: 71, training loss: 0.01301, validation loss: 0.01352\n",
      "Epoch: 72, training loss: 0.01279, validation loss: 0.01355\n",
      "Epoch: 73, training loss: 0.01274, validation loss: 0.01305\n",
      "Epoch: 74, training loss: 0.01254, validation loss: 0.01293\n",
      "Epoch: 75, training loss: 0.01248, validation loss: 0.01308\n",
      "Epoch: 76, training loss: 0.01241, validation loss: 0.01288\n",
      "Epoch: 77, training loss: 0.01232, validation loss: 0.01266\n",
      "Epoch: 78, training loss: 0.01240, validation loss: 0.01256\n",
      "Epoch: 79, training loss: 0.01219, validation loss: 0.01275\n",
      "Epoch: 80, training loss: 0.01224, validation loss: 0.01233\n",
      "Epoch: 81, training loss: 0.01201, validation loss: 0.01224\n",
      "Epoch: 82, training loss: 0.01200, validation loss: 0.01226\n",
      "Epoch: 83, training loss: 0.01186, validation loss: 0.01230\n",
      "Epoch: 84, training loss: 0.01185, validation loss: 0.01210\n",
      "Epoch: 85, training loss: 0.01177, validation loss: 0.01205\n",
      "Epoch: 86, training loss: 0.01174, validation loss: 0.01208\n",
      "Epoch: 87, training loss: 0.01167, validation loss: 0.01203\n",
      "Epoch: 88, training loss: 0.01161, validation loss: 0.01188\n",
      "Epoch: 89, training loss: 0.01156, validation loss: 0.01185\n",
      "Epoch: 90, training loss: 0.01151, validation loss: 0.01193\n",
      "Epoch: 91, training loss: 0.01148, validation loss: 0.01188\n",
      "Epoch: 92, training loss: 0.01143, validation loss: 0.01185\n",
      "Epoch: 93, training loss: 0.01143, validation loss: 0.01186\n",
      "Epoch: 94, training loss: 0.01138, validation loss: 0.01194\n",
      "Epoch: 95, training loss: 0.01138, validation loss: 0.01187\n",
      "Epoch: 96, training loss: 0.01132, validation loss: 0.01184\n",
      "Epoch: 97, training loss: 0.01131, validation loss: 0.01185\n",
      "Epoch: 98, training loss: 0.01126, validation loss: 0.01185\n",
      "Epoch: 99, training loss: 0.01125, validation loss: 0.01176\n",
      "Epoch: 100, training loss: 0.01122, validation loss: 0.01173\n",
      "Epoch: 101, training loss: 0.01120, validation loss: 0.01175\n",
      "Epoch: 102, training loss: 0.01118, validation loss: 0.01171\n",
      "Epoch: 103, training loss: 0.01116, validation loss: 0.01165\n",
      "Epoch: 104, training loss: 0.01114, validation loss: 0.01164\n",
      "Epoch: 105, training loss: 0.01111, validation loss: 0.01166\n",
      "Epoch: 106, training loss: 0.01109, validation loss: 0.01161\n",
      "Epoch: 107, training loss: 0.01107, validation loss: 0.01158\n",
      "Epoch: 108, training loss: 0.01106, validation loss: 0.01158\n",
      "Epoch: 109, training loss: 0.01103, validation loss: 0.01156\n",
      "Epoch: 110, training loss: 0.01102, validation loss: 0.01150\n",
      "Epoch: 111, training loss: 0.01100, validation loss: 0.01148\n",
      "Epoch: 112, training loss: 0.01098, validation loss: 0.01148\n",
      "Epoch: 113, training loss: 0.01097, validation loss: 0.01144\n",
      "Epoch: 114, training loss: 0.01095, validation loss: 0.01142\n",
      "Epoch: 115, training loss: 0.01094, validation loss: 0.01143\n",
      "Epoch: 116, training loss: 0.01092, validation loss: 0.01144\n",
      "Epoch: 117, training loss: 0.01091, validation loss: 0.01142\n",
      "Epoch: 118, training loss: 0.01090, validation loss: 0.01143\n",
      "Epoch: 119, training loss: 0.01088, validation loss: 0.01145\n",
      "Epoch: 120, training loss: 0.01087, validation loss: 0.01143\n",
      "Epoch: 121, training loss: 0.01086, validation loss: 0.01142\n",
      "Epoch: 122, training loss: 0.01085, validation loss: 0.01142\n",
      "Epoch: 123, training loss: 0.01083, validation loss: 0.01141\n",
      "Epoch: 124, training loss: 0.01082, validation loss: 0.01138\n",
      "Epoch: 125, training loss: 0.01081, validation loss: 0.01138\n",
      "Epoch: 126, training loss: 0.01080, validation loss: 0.01138\n",
      "Epoch: 127, training loss: 0.01079, validation loss: 0.01135\n",
      "Epoch: 128, training loss: 0.01078, validation loss: 0.01135\n",
      "Epoch: 129, training loss: 0.01077, validation loss: 0.01135\n",
      "Epoch: 130, training loss: 0.01076, validation loss: 0.01133\n",
      "Epoch: 131, training loss: 0.01074, validation loss: 0.01132\n",
      "Epoch: 132, training loss: 0.01073, validation loss: 0.01131\n",
      "Epoch: 133, training loss: 0.01072, validation loss: 0.01129\n",
      "Epoch: 134, training loss: 0.01071, validation loss: 0.01127\n",
      "Epoch: 135, training loss: 0.01070, validation loss: 0.01126\n",
      "Epoch: 136, training loss: 0.01069, validation loss: 0.01124\n",
      "Epoch: 137, training loss: 0.01068, validation loss: 0.01122\n",
      "Epoch: 138, training loss: 0.01067, validation loss: 0.01122\n",
      "Epoch: 139, training loss: 0.01066, validation loss: 0.01120\n",
      "Epoch: 140, training loss: 0.01065, validation loss: 0.01119\n",
      "Epoch: 141, training loss: 0.01064, validation loss: 0.01119\n",
      "Epoch: 142, training loss: 0.01063, validation loss: 0.01118\n",
      "Epoch: 143, training loss: 0.01062, validation loss: 0.01116\n",
      "Epoch: 144, training loss: 0.01061, validation loss: 0.01116\n",
      "Epoch: 145, training loss: 0.01060, validation loss: 0.01114\n",
      "Epoch: 146, training loss: 0.01058, validation loss: 0.01113\n",
      "Epoch: 147, training loss: 0.01057, validation loss: 0.01112\n",
      "Epoch: 148, training loss: 0.01056, validation loss: 0.01111\n",
      "Epoch: 149, training loss: 0.01055, validation loss: 0.01110\n",
      "Epoch: 150, training loss: 0.01054, validation loss: 0.01110\n",
      "Epoch: 151, training loss: 0.01052, validation loss: 0.01108\n",
      "Epoch: 152, training loss: 0.01051, validation loss: 0.01107\n",
      "Epoch: 153, training loss: 0.01050, validation loss: 0.01106\n",
      "Epoch: 154, training loss: 0.01048, validation loss: 0.01105\n",
      "Epoch: 155, training loss: 0.01047, validation loss: 0.01103\n",
      "Epoch: 156, training loss: 0.01045, validation loss: 0.01102\n",
      "Epoch: 157, training loss: 0.01044, validation loss: 0.01100\n",
      "Epoch: 158, training loss: 0.01042, validation loss: 0.01099\n",
      "Epoch: 159, training loss: 0.01041, validation loss: 0.01097\n",
      "Epoch: 160, training loss: 0.01039, validation loss: 0.01096\n",
      "Epoch: 161, training loss: 0.01037, validation loss: 0.01094\n",
      "Epoch: 162, training loss: 0.01035, validation loss: 0.01092\n",
      "Epoch: 163, training loss: 0.01033, validation loss: 0.01090\n",
      "Epoch: 164, training loss: 0.01031, validation loss: 0.01088\n",
      "Epoch: 165, training loss: 0.01029, validation loss: 0.01085\n",
      "Epoch: 166, training loss: 0.01026, validation loss: 0.01083\n",
      "Epoch: 167, training loss: 0.01024, validation loss: 0.01081\n",
      "Epoch: 168, training loss: 0.01021, validation loss: 0.01079\n",
      "Epoch: 169, training loss: 0.01018, validation loss: 0.01076\n",
      "Epoch: 170, training loss: 0.01015, validation loss: 0.01073\n",
      "Epoch: 171, training loss: 0.01011, validation loss: 0.01070\n",
      "Epoch: 172, training loss: 0.01007, validation loss: 0.01067\n",
      "Epoch: 173, training loss: 0.01004, validation loss: 0.01064\n",
      "Epoch: 174, training loss: 0.01000, validation loss: 0.01061\n",
      "Epoch: 175, training loss: 0.00995, validation loss: 0.01057\n",
      "Epoch: 176, training loss: 0.00991, validation loss: 0.01055\n",
      "Epoch: 177, training loss: 0.00987, validation loss: 0.01051\n",
      "Epoch: 178, training loss: 0.00984, validation loss: 0.01058\n",
      "Epoch: 179, training loss: 0.00985, validation loss: 0.01063\n",
      "Epoch: 180, training loss: 0.01012, validation loss: 0.01165\n",
      "Epoch: 181, training loss: 0.01090, validation loss: 0.01202\n",
      "Epoch: 182, training loss: 0.01155, validation loss: 0.01023\n",
      "Epoch: 183, training loss: 0.00999, validation loss: 0.01136\n",
      "Epoch: 184, training loss: 0.01099, validation loss: 0.01099\n",
      "Epoch: 185, training loss: 0.01003, validation loss: 0.01129\n",
      "Epoch: 186, training loss: 0.01036, validation loss: 0.01033\n",
      "Epoch: 187, training loss: 0.00997, validation loss: 0.01029\n",
      "Epoch: 188, training loss: 0.01011, validation loss: 0.01025\n",
      "Epoch: 189, training loss: 0.00978, validation loss: 0.01067\n",
      "Epoch: 190, training loss: 0.00993, validation loss: 0.01039\n",
      "Epoch: 191, training loss: 0.00962, validation loss: 0.01055\n",
      "Epoch: 192, training loss: 0.00983, validation loss: 0.01008\n",
      "Epoch: 193, training loss: 0.00941, validation loss: 0.01030\n",
      "Epoch: 194, training loss: 0.00971, validation loss: 0.00985\n",
      "Epoch: 195, training loss: 0.00929, validation loss: 0.01021\n",
      "Epoch: 196, training loss: 0.00951, validation loss: 0.01014\n",
      "Epoch: 197, training loss: 0.00922, validation loss: 0.01027\n",
      "Epoch: 198, training loss: 0.00935, validation loss: 0.00980\n",
      "Epoch: 199, training loss: 0.00915, validation loss: 0.00968\n",
      "Epoch: 200, training loss: 0.00920, validation loss: 0.00974\n"
     ]
    }
   ],
   "source": [
    "# DEFINE OPTIMIZER\n",
    "criterion = torch.nn.MSELoss()    # mean-squared error for regression\n",
    "optimizer = torch.optim.Adam(model.parameters(), lr=learning_rate)\n",
    "# Lists to store training losses for plotting the training curve\n",
    "train_losses = []\n",
    "valid_losses=[]\n",
    "#batch gradient descent\n",
    "# TRAIN THE MODEL:\n",
    "for epoch in range(1,num_epochs+1):\n",
    "    model.train()\n",
    "    outputs = model(X_train.to(device))\n",
    "    optimizer.zero_grad()\n",
    "    # obtain the loss function\n",
    "    loss = criterion(outputs, Y_train.to(device))\n",
    "    loss.backward()\n",
    "    optimizer.step()\n",
    "    train_losses.append(loss.item())\n",
    "    model.eval()\n",
    "    with torch.no_grad():\n",
    "        valid_outputs=model(X_validate.to(device))\n",
    "        valid_loss=criterion(valid_outputs,Y_validate.to(device))\n",
    "        valid_losses.append(valid_loss.item())\n",
    "    if epoch % 1 == 0:\n",
    "        print(\"Epoch: %d, training loss: %1.5f, validation loss: %1.5f\" % (epoch, loss.item(),valid_loss.item()))"
   ]
  },
  {
   "cell_type": "code",
   "execution_count": 48,
   "metadata": {},
   "outputs": [
    {
     "data": {
      "image/png": "[encoded data removed]",
      "text/plain": [
       "<Figure size 640x480 with 1 Axes>"
      ]
     },
     "metadata": {},
     "output_type": "display_data"
    }
   ],
   "source": [
    "# Plotting the training curve\n",
    "epochs=range(1,num_epochs+1)\n",
    "st=30;end=75\n",
    "plt.plot( epochs[st:end],train_losses[st:end], label='Training Loss')\n",
    "plt.plot(epochs[st:end],valid_losses[st:end], label='Validation Loss')\n",
    "plt.xlabel('Epochs')\n",
    "plt.ylabel('MSE Loss')\n",
    "plt.legend()\n",
    "plt.show()"
   ]
  },
  {
   "cell_type": "code",
   "execution_count": 41,
   "metadata": {},
   "outputs": [],
   "source": [
    "torch.save(model.state_dict(),'./assets/trainedmodels/hybrid_qlstm_state.pt')"
   ]
  }
 ],
 "metadata": {
  "kernelspec": {
   "display_name": "majorProject",
   "language": "python",
   "name": "python3"
  },
  "language_info": {
   "codemirror_mode": {
    "name": "ipython",
    "version": 3
   },
   "file_extension": ".py",
   "mimetype": "text/x-python",
   "name": "python",
   "nbconvert_exporter": "python",
   "pygments_lexer": "ipython3",
   "version": "3.11.4"
  },
  "orig_nbformat": 4
 },
 "nbformat": 4,
 "nbformat_minor": 2
}

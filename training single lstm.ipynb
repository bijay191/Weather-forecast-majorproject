{
 "cells": [
  {
   "cell_type": "code",
   "execution_count": 11,
   "metadata": {},
   "outputs": [
    {
     "data": {
      "text/plain": [
       "<torch._C.Generator at 0x148fc6c3c50>"
      ]
     },
     "execution_count": 11,
     "metadata": {},
     "output_type": "execute_result"
    }
   ],
   "source": [
    "import numpy as np\n",
    "import pandas as pd\n",
    "import matplotlib.pyplot as plt\n",
    "\n",
    "import torch\n",
    "import torch.nn as nn\n",
    "from torch.autograd import Variable\n",
    "from torchinfo import summary\n",
    "from sklearn.preprocessing import MinMaxScaler\n",
    "\n",
    "import joblib\n",
    "torch.manual_seed(42)"
   ]
  },
  {
   "cell_type": "code",
   "execution_count": 12,
   "metadata": {},
   "outputs": [
    {
     "data": {
      "text/plain": [
       "device(type='cpu')"
      ]
     },
     "execution_count": 12,
     "metadata": {},
     "output_type": "execute_result"
    }
   ],
   "source": [
    "device = torch.device(\"cuda\" if torch.cuda.is_available() else \"cpu\")\n",
    "device"
   ]
  },
  {
   "cell_type": "code",
   "execution_count": 13,
   "metadata": {},
   "outputs": [
    {
     "data": {
      "text/html": [
       "<div>\n",
       "<style scoped>\n",
       "    .dataframe tbody tr th:only-of-type {\n",
       "        vertical-align: middle;\n",
       "    }\n",
       "\n",
       "    .dataframe tbody tr th {\n",
       "        vertical-align: top;\n",
       "    }\n",
       "\n",
       "    .dataframe thead th {\n",
       "        text-align: right;\n",
       "    }\n",
       "</style>\n",
       "<table border=\"1\" class=\"dataframe\">\n",
       "  <thead>\n",
       "    <tr style=\"text-align: right;\">\n",
       "      <th></th>\n",
       "      <th>PRECTOT</th>\n",
       "      <th>QV2M</th>\n",
       "      <th>T2M_MAX</th>\n",
       "      <th>T2M_MIN</th>\n",
       "    </tr>\n",
       "  </thead>\n",
       "  <tbody>\n",
       "    <tr>\n",
       "      <th>0</th>\n",
       "      <td>0.0</td>\n",
       "      <td>3.55</td>\n",
       "      <td>22.99</td>\n",
       "      <td>8.58</td>\n",
       "    </tr>\n",
       "    <tr>\n",
       "      <th>1</th>\n",
       "      <td>0.0</td>\n",
       "      <td>3.56</td>\n",
       "      <td>23.24</td>\n",
       "      <td>9.58</td>\n",
       "    </tr>\n",
       "    <tr>\n",
       "      <th>2</th>\n",
       "      <td>0.0</td>\n",
       "      <td>3.98</td>\n",
       "      <td>22.89</td>\n",
       "      <td>8.34</td>\n",
       "    </tr>\n",
       "    <tr>\n",
       "      <th>3</th>\n",
       "      <td>0.0</td>\n",
       "      <td>5.12</td>\n",
       "      <td>22.99</td>\n",
       "      <td>10.75</td>\n",
       "    </tr>\n",
       "    <tr>\n",
       "      <th>4</th>\n",
       "      <td>0.0</td>\n",
       "      <td>5.47</td>\n",
       "      <td>24.10</td>\n",
       "      <td>10.47</td>\n",
       "    </tr>\n",
       "  </tbody>\n",
       "</table>\n",
       "</div>"
      ],
      "text/plain": [
       "   PRECTOT  QV2M  T2M_MAX  T2M_MIN\n",
       "0      0.0  3.55    22.99     8.58\n",
       "1      0.0  3.56    23.24     9.58\n",
       "2      0.0  3.98    22.89     8.34\n",
       "3      0.0  5.12    22.99    10.75\n",
       "4      0.0  5.47    24.10    10.47"
      ]
     },
     "execution_count": 13,
     "metadata": {},
     "output_type": "execute_result"
    }
   ],
   "source": [
    "train_data=pd.read_csv('./assets/processed dataset/train dataset.csv')\n",
    "validation_data=pd.read_csv('./assets/processed dataset/validation dataset.csv')\n",
    "validation_data.head()"
   ]
  },
  {
   "cell_type": "code",
   "execution_count": 14,
   "metadata": {},
   "outputs": [
    {
     "name": "stdout",
     "output_type": "stream",
     "text": [
      "[0.01221598 0.0656168  0.03913894 0.04288165]\n",
      "[0.         0.22440945 0.2704501  0.35034305]\n",
      "[0.         0.17847769 0.7592955  0.64193825]\n"
     ]
    }
   ],
   "source": [
    "#Data scaling\n",
    "scaler=MinMaxScaler()\n",
    "normalized_train_data=scaler.fit_transform(train_data)\n",
    "joblib.dump(scaler, \"./assets/scaler.gz\") \n",
    "print(scaler.scale_)\n",
    "print(normalized_train_data[0])\n",
    "normalized_validation_data=scaler.transform(validation_data)\n",
    "print(normalized_validation_data[0])"
   ]
  },
  {
   "cell_type": "code",
   "execution_count": 5,
   "metadata": {},
   "outputs": [
    {
     "name": "stdout",
     "output_type": "stream",
     "text": [
      "(9789, 180, 4) (9789, 4)\n",
      "(1956, 180, 4) (1956, 4)\n"
     ]
    },
    {
     "name": "stdout",
     "output_type": "stream",
     "text": [
      "torch.Size([9789, 180, 4]) torch.Size([9789, 4])\n",
      "torch.Size([1956, 180, 4]) torch.Size([1956, 4])\n"
     ]
    }
   ],
   "source": [
    "#Prepearing X and Y for training and validation\n",
    "# Setting THE SEQUENCE LENGTH \n",
    "seq_length=180\n",
    "#initialized to a empty 1d list\n",
    "X_train=[]\n",
    "Y_train=[]\n",
    "X_validate=[]\n",
    "Y_validate=[]\n",
    "for i in range(seq_length,train_data.shape[0]):\n",
    "    #Data from 0 to 59TH index\n",
    "    X_train.append(normalized_train_data[i-seq_length:i])\n",
    "    #T2M AT THE 60TH index\n",
    "    Y_train.append(normalized_train_data[i])\n",
    "\n",
    "for i in range(seq_length,validation_data.shape[0]):\n",
    "    #Data from 0 to 59TH index\n",
    "    X_validate.append(normalized_validation_data[i-seq_length:i])\n",
    "    #T2M AT THE 60TH index\n",
    "    Y_validate.append(normalized_validation_data[i])\n",
    "\n",
    "# converting into numpy arrays\n",
    "X_train,Y_train=np.array(X_train),np.array(Y_train)\n",
    "#change to 2d array from 1d array\n",
    "Y_train=Y_train.reshape(-1,4)\n",
    "print(X_train.shape,Y_train.shape)\n",
    "\n",
    "X_validate,Y_validate=np.array(X_validate),np.array(Y_validate)\n",
    "Y_validate=Y_validate.reshape(-1,4)\n",
    "print(X_validate.shape,Y_validate.shape)\n",
    "\n",
    "X_train = Variable(torch.Tensor(X_train))\n",
    "Y_train = Variable(torch.Tensor(Y_train))\n",
    "print(X_train.shape,Y_train.shape)\n",
    "\n",
    "X_validate = Variable(torch.Tensor(X_validate))\n",
    "Y_validate = Variable(torch.Tensor(Y_validate))\n",
    "print(X_validate.shape,Y_validate.shape)"
   ]
  },
  {
   "cell_type": "code",
   "execution_count": 6,
   "metadata": {},
   "outputs": [],
   "source": [
    "#single lstm Network definition\n",
    "class NETWORK_SINGLE_LSTM(nn.Module):\n",
    "\n",
    "    def __init__(self,num_classes,input_size,hidden_size,num_layers):\n",
    "        super(NETWORK_SINGLE_LSTM,self).__init__()\n",
    "        self.num_classes = num_classes\n",
    "        self.num_layers = num_layers\n",
    "        self.input_size = input_size\n",
    "        self.hidden_size = hidden_size\n",
    "        self.lstm=nn.LSTM(input_size=input_size, hidden_size=hidden_size,\n",
    "                            num_layers=num_layers, batch_first=True).to(device)\n",
    "        self.fc=nn.Linear(hidden_size,num_classes)\n",
    "    \n",
    "    def forward(self,x):\n",
    "        output_lstm, (h_n,c_n) = self.lstm(x)\n",
    "        input_fc=output_lstm[:,-1,:]\n",
    "        output_fc=self.fc(input_fc).to(device)\n",
    "        return output_fc"
   ]
  },
  {
   "cell_type": "code",
   "execution_count": 7,
   "metadata": {},
   "outputs": [
    {
     "data": {
      "text/plain": [
       "NETWORK_SINGLE_LSTM(\n",
       "  (lstm): LSTM(4, 8, batch_first=True)\n",
       "  (fc): Linear(in_features=8, out_features=4, bias=True)\n",
       ")"
      ]
     },
     "execution_count": 7,
     "metadata": {},
     "output_type": "execute_result"
    }
   ],
   "source": [
    "#Initializing model with parameters\n",
    "num_epochs=500\n",
    "learning_rate=0.01\n",
    "input_size=4\n",
    "hidden_size=8\n",
    "num_layers=1\n",
    "num_classes=4\n",
    "\n",
    "model=NETWORK_SINGLE_LSTM(num_classes,input_size, hidden_size,num_layers)\n",
    "model.to(device)"
   ]
  },
  {
   "cell_type": "code",
   "execution_count": 8,
   "metadata": {},
   "outputs": [
    {
     "name": "stdout",
     "output_type": "stream",
     "text": [
      "Epoch: 1, training loss: 0.41463, validation loss: 0.36355\n",
      "Epoch: 2, training loss: 0.37146, validation loss: 0.32962\n",
      "Epoch: 3, training loss: 0.33697, validation loss: 0.30078\n",
      "Epoch: 4, training loss: 0.30773, validation loss: 0.27534\n",
      "Epoch: 5, training loss: 0.28200, validation loss: 0.25240\n",
      "Epoch: 6, training loss: 0.25884, validation loss: 0.23137\n",
      "Epoch: 7, training loss: 0.23763, validation loss: 0.21182\n",
      "Epoch: 8, training loss: 0.21793, validation loss: 0.19348\n",
      "Epoch: 9, training loss: 0.19948, validation loss: 0.17618\n",
      "Epoch: 10, training loss: 0.18208, validation loss: 0.15977\n",
      "Epoch: 11, training loss: 0.16559, validation loss: 0.14418\n",
      "Epoch: 12, training loss: 0.14994, validation loss: 0.12938\n",
      "Epoch: 13, training loss: 0.13511, validation loss: 0.11544\n",
      "Epoch: 14, training loss: 0.12116, validation loss: 0.10248\n",
      "Epoch: 15, training loss: 0.10818, validation loss: 0.09061\n",
      "Epoch: 16, training loss: 0.09631, validation loss: 0.07996\n",
      "Epoch: 17, training loss: 0.08566, validation loss: 0.07065\n",
      "Epoch: 18, training loss: 0.07633, validation loss: 0.06274\n",
      "Epoch: 19, training loss: 0.06838, validation loss: 0.05623\n",
      "Epoch: 20, training loss: 0.06181, validation loss: 0.05109\n",
      "Epoch: 21, training loss: 0.05656, validation loss: 0.04717\n",
      "Epoch: 22, training loss: 0.05248, validation loss: 0.04430\n",
      "Epoch: 23, training loss: 0.04938, validation loss: 0.04227\n",
      "Epoch: 24, training loss: 0.04705, validation loss: 0.04089\n",
      "Epoch: 25, training loss: 0.04530, validation loss: 0.03998\n",
      "Epoch: 26, training loss: 0.04395, validation loss: 0.03938\n",
      "Epoch: 27, training loss: 0.04285, validation loss: 0.03897\n",
      "Epoch: 28, training loss: 0.04190, validation loss: 0.03865\n",
      "Epoch: 29, training loss: 0.04102, validation loss: 0.03834\n",
      "Epoch: 30, training loss: 0.04012, validation loss: 0.03797\n",
      "Epoch: 31, training loss: 0.03920, validation loss: 0.03753\n",
      "Epoch: 32, training loss: 0.03823, validation loss: 0.03705\n",
      "Epoch: 33, training loss: 0.03727, validation loss: 0.03656\n",
      "Epoch: 34, training loss: 0.03636, validation loss: 0.03610\n",
      "Epoch: 35, training loss: 0.03555, validation loss: 0.03570\n",
      "Epoch: 36, training loss: 0.03485, validation loss: 0.03532\n",
      "Epoch: 37, training loss: 0.03426, validation loss: 0.03493\n",
      "Epoch: 38, training loss: 0.03371, validation loss: 0.03445\n",
      "Epoch: 39, training loss: 0.03314, validation loss: 0.03383\n",
      "Epoch: 40, training loss: 0.03249, validation loss: 0.03304\n",
      "Epoch: 41, training loss: 0.03172, validation loss: 0.03208\n",
      "Epoch: 42, training loss: 0.03081, validation loss: 0.03095\n",
      "Epoch: 43, training loss: 0.02977, validation loss: 0.02968\n",
      "Epoch: 44, training loss: 0.02862, validation loss: 0.02832\n",
      "Epoch: 45, training loss: 0.02741, validation loss: 0.02691\n",
      "Epoch: 46, training loss: 0.02615, validation loss: 0.02549\n",
      "Epoch: 47, training loss: 0.02490, validation loss: 0.02409\n",
      "Epoch: 48, training loss: 0.02368, validation loss: 0.02276\n",
      "Epoch: 49, training loss: 0.02251, validation loss: 0.02149\n",
      "Epoch: 50, training loss: 0.02139, validation loss: 0.02027\n"
     ]
    }
   ],
   "source": [
    "# DEFINE OPTIMIZER\n",
    "criterion = torch.nn.MSELoss()    # mean-squared error for regression\n",
    "optimizer = torch.optim.Adam(model.parameters(), lr=learning_rate)\n",
    "# Lists to store training losses for plotting the training curve\n",
    "train_losses = []\n",
    "valid_losses=[]\n",
    "#batch gradient descent\n",
    "# TRAIN THE MODEL:\n",
    "for epoch in range(1,num_epochs+1):\n",
    "    model.train()\n",
    "    outputs = model(X_train.to(device))\n",
    "    optimizer.zero_grad()\n",
    "    # obtain the loss function\n",
    "    loss = criterion(outputs, Y_train.to(device))\n",
    "    loss.backward()\n",
    "    optimizer.step()\n",
    "    train_losses.append(loss.item())\n",
    "    model.eval()\n",
    "    with torch.no_grad():\n",
    "        valid_outputs=model(X_validate.to(device))\n",
    "        valid_loss=criterion(valid_outputs,Y_validate.to(device))\n",
    "        valid_losses.append(valid_loss.item())\n",
    "    if epoch % 1 == 0:\n",
    "        print(\"Epoch: %d, training loss: %1.5f, validation loss: %1.5f\" % (epoch, loss.item(),valid_loss.item()))\n",
    "    "
   ]
  },
  {
   "cell_type": "code",
   "execution_count": 9,
   "metadata": {},
   "outputs": [
    {
     "data": {
      "image/png": "[encoded data removed]",
      "text/plain": [
       "<Figure size 640x480 with 1 Axes>"
      ]
     },
     "metadata": {},
     "output_type": "display_data"
    }
   ],
   "source": [
    "# Plotting the training curve\n",
    "epochs=range(1,num_epochs+1)\n",
    "st=0;end=50\n",
    "plt.plot( epochs[st:end],train_losses[st:end], label='Training Loss')\n",
    "plt.plot(epochs[st:end],valid_losses[st:end], label='Validation Loss')\n",
    "# plt.plot(epochs, train_losses, label='Training Loss')\n",
    "# plt.plot(epochs, valid_losses, label='Validation Loss')\n",
    "plt.xlabel('Epochs')\n",
    "plt.ylabel('MSE Loss')\n",
    "plt.legend()\n",
    "plt.show()"
   ]
  },
  {
   "cell_type": "code",
   "execution_count": 10,
   "metadata": {},
   "outputs": [],
   "source": [
    "torch.save(model.state_dict(),'./assets/trained models state/single_lstm_state.pt')"
   ]
  }
 ],
 "metadata": {
  "kernelspec": {
   "display_name": "majorProject",
   "language": "python",
   "name": "python3"
  },
  "language_info": {
   "codemirror_mode": {
    "name": "ipython",
    "version": 3
   },
   "file_extension": ".py",
   "mimetype": "text/x-python",
   "name": "python",
   "nbconvert_exporter": "python",
   "pygments_lexer": "ipython3",
   "version": "3.11.4"
  },
  "orig_nbformat": 4
 },
 "nbformat": 4,
 "nbformat_minor": 2
}
